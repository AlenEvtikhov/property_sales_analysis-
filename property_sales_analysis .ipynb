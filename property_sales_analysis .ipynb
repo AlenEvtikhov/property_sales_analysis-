{
 "cells": [
  {
   "cell_type": "markdown",
   "metadata": {
    "id": "-VFbjcb3Awb7"
   },
   "source": [
    "# Исследование объявлений о продаже квартир\n",
    "\n",
    "В вашем распоряжении данные сервиса Яндекс Недвижимость — архив объявлений о продаже квартир в Санкт-Петербурге и соседних населённых пунктах за несколько лет. Вам нужно научиться определять рыночную стоимость объектов недвижимости. Для этого проведите исследовательский анализ данных и установите параметры, влияющие на цену объектов. Это позволит построить автоматизированную систему: она отследит аномалии и мошенническую деятельность.\n",
    "\n",
    "По каждой квартире на продажу доступны два вида данных. Первые вписаны пользователем, вторые — получены автоматически на основе картографических данных. Например, расстояние до центра, аэропорта и других объектов — эти данные автоматически получены из геосервисов. Количество парков и водоёмов также заполняется без участия пользователя."
   ]
  },
  {
   "cell_type": "markdown",
   "metadata": {
    "id": "aeFLH07FAwb9"
   },
   "source": [
    "### Откройте файл с данными и изучите общую информацию"
   ]
  },
  {
   "cell_type": "code",
   "execution_count": 41,
   "metadata": {
    "id": "7MZxY65pAwb9"
   },
   "outputs": [
    {
     "data": {
      "text/html": [
       "<div>\n",
       "<style scoped>\n",
       "    .dataframe tbody tr th:only-of-type {\n",
       "        vertical-align: middle;\n",
       "    }\n",
       "\n",
       "    .dataframe tbody tr th {\n",
       "        vertical-align: top;\n",
       "    }\n",
       "\n",
       "    .dataframe thead th {\n",
       "        text-align: right;\n",
       "    }\n",
       "</style>\n",
       "<table border=\"1\" class=\"dataframe\">\n",
       "  <thead>\n",
       "    <tr style=\"text-align: right;\">\n",
       "      <th></th>\n",
       "      <th>total_images</th>\n",
       "      <th>last_price</th>\n",
       "      <th>total_area</th>\n",
       "      <th>first_day_exposition</th>\n",
       "      <th>rooms</th>\n",
       "      <th>ceiling_height</th>\n",
       "      <th>floors_total</th>\n",
       "      <th>living_area</th>\n",
       "      <th>floor</th>\n",
       "      <th>is_apartment</th>\n",
       "      <th>...</th>\n",
       "      <th>kitchen_area</th>\n",
       "      <th>balcony</th>\n",
       "      <th>locality_name</th>\n",
       "      <th>airports_nearest</th>\n",
       "      <th>cityCenters_nearest</th>\n",
       "      <th>parks_around3000</th>\n",
       "      <th>parks_nearest</th>\n",
       "      <th>ponds_around3000</th>\n",
       "      <th>ponds_nearest</th>\n",
       "      <th>days_exposition</th>\n",
       "    </tr>\n",
       "  </thead>\n",
       "  <tbody>\n",
       "    <tr>\n",
       "      <th>0</th>\n",
       "      <td>20</td>\n",
       "      <td>13000000.0</td>\n",
       "      <td>108.0</td>\n",
       "      <td>2019-03-07T00:00:00</td>\n",
       "      <td>3</td>\n",
       "      <td>2.70</td>\n",
       "      <td>16.0</td>\n",
       "      <td>51.0</td>\n",
       "      <td>8</td>\n",
       "      <td>NaN</td>\n",
       "      <td>...</td>\n",
       "      <td>25.0</td>\n",
       "      <td>NaN</td>\n",
       "      <td>Санкт-Петербург</td>\n",
       "      <td>18863.0</td>\n",
       "      <td>16028.0</td>\n",
       "      <td>1.0</td>\n",
       "      <td>482.0</td>\n",
       "      <td>2.0</td>\n",
       "      <td>755.0</td>\n",
       "      <td>NaN</td>\n",
       "    </tr>\n",
       "    <tr>\n",
       "      <th>1</th>\n",
       "      <td>7</td>\n",
       "      <td>3350000.0</td>\n",
       "      <td>40.4</td>\n",
       "      <td>2018-12-04T00:00:00</td>\n",
       "      <td>1</td>\n",
       "      <td>NaN</td>\n",
       "      <td>11.0</td>\n",
       "      <td>18.6</td>\n",
       "      <td>1</td>\n",
       "      <td>NaN</td>\n",
       "      <td>...</td>\n",
       "      <td>11.0</td>\n",
       "      <td>2.0</td>\n",
       "      <td>посёлок Шушары</td>\n",
       "      <td>12817.0</td>\n",
       "      <td>18603.0</td>\n",
       "      <td>0.0</td>\n",
       "      <td>NaN</td>\n",
       "      <td>0.0</td>\n",
       "      <td>NaN</td>\n",
       "      <td>81.0</td>\n",
       "    </tr>\n",
       "    <tr>\n",
       "      <th>2</th>\n",
       "      <td>10</td>\n",
       "      <td>5196000.0</td>\n",
       "      <td>56.0</td>\n",
       "      <td>2015-08-20T00:00:00</td>\n",
       "      <td>2</td>\n",
       "      <td>NaN</td>\n",
       "      <td>5.0</td>\n",
       "      <td>34.3</td>\n",
       "      <td>4</td>\n",
       "      <td>NaN</td>\n",
       "      <td>...</td>\n",
       "      <td>8.3</td>\n",
       "      <td>0.0</td>\n",
       "      <td>Санкт-Петербург</td>\n",
       "      <td>21741.0</td>\n",
       "      <td>13933.0</td>\n",
       "      <td>1.0</td>\n",
       "      <td>90.0</td>\n",
       "      <td>2.0</td>\n",
       "      <td>574.0</td>\n",
       "      <td>558.0</td>\n",
       "    </tr>\n",
       "    <tr>\n",
       "      <th>3</th>\n",
       "      <td>0</td>\n",
       "      <td>64900000.0</td>\n",
       "      <td>159.0</td>\n",
       "      <td>2015-07-24T00:00:00</td>\n",
       "      <td>3</td>\n",
       "      <td>NaN</td>\n",
       "      <td>14.0</td>\n",
       "      <td>NaN</td>\n",
       "      <td>9</td>\n",
       "      <td>NaN</td>\n",
       "      <td>...</td>\n",
       "      <td>NaN</td>\n",
       "      <td>0.0</td>\n",
       "      <td>Санкт-Петербург</td>\n",
       "      <td>28098.0</td>\n",
       "      <td>6800.0</td>\n",
       "      <td>2.0</td>\n",
       "      <td>84.0</td>\n",
       "      <td>3.0</td>\n",
       "      <td>234.0</td>\n",
       "      <td>424.0</td>\n",
       "    </tr>\n",
       "    <tr>\n",
       "      <th>4</th>\n",
       "      <td>2</td>\n",
       "      <td>10000000.0</td>\n",
       "      <td>100.0</td>\n",
       "      <td>2018-06-19T00:00:00</td>\n",
       "      <td>2</td>\n",
       "      <td>3.03</td>\n",
       "      <td>14.0</td>\n",
       "      <td>32.0</td>\n",
       "      <td>13</td>\n",
       "      <td>NaN</td>\n",
       "      <td>...</td>\n",
       "      <td>41.0</td>\n",
       "      <td>NaN</td>\n",
       "      <td>Санкт-Петербург</td>\n",
       "      <td>31856.0</td>\n",
       "      <td>8098.0</td>\n",
       "      <td>2.0</td>\n",
       "      <td>112.0</td>\n",
       "      <td>1.0</td>\n",
       "      <td>48.0</td>\n",
       "      <td>121.0</td>\n",
       "    </tr>\n",
       "  </tbody>\n",
       "</table>\n",
       "<p>5 rows × 22 columns</p>\n",
       "</div>"
      ],
      "text/plain": [
       "   total_images  last_price  total_area first_day_exposition  rooms  \\\n",
       "0            20  13000000.0       108.0  2019-03-07T00:00:00      3   \n",
       "1             7   3350000.0        40.4  2018-12-04T00:00:00      1   \n",
       "2            10   5196000.0        56.0  2015-08-20T00:00:00      2   \n",
       "3             0  64900000.0       159.0  2015-07-24T00:00:00      3   \n",
       "4             2  10000000.0       100.0  2018-06-19T00:00:00      2   \n",
       "\n",
       "   ceiling_height  floors_total  living_area  floor is_apartment  ...  \\\n",
       "0            2.70          16.0         51.0      8          NaN  ...   \n",
       "1             NaN          11.0         18.6      1          NaN  ...   \n",
       "2             NaN           5.0         34.3      4          NaN  ...   \n",
       "3             NaN          14.0          NaN      9          NaN  ...   \n",
       "4            3.03          14.0         32.0     13          NaN  ...   \n",
       "\n",
       "   kitchen_area  balcony    locality_name  airports_nearest  \\\n",
       "0          25.0      NaN  Санкт-Петербург           18863.0   \n",
       "1          11.0      2.0   посёлок Шушары           12817.0   \n",
       "2           8.3      0.0  Санкт-Петербург           21741.0   \n",
       "3           NaN      0.0  Санкт-Петербург           28098.0   \n",
       "4          41.0      NaN  Санкт-Петербург           31856.0   \n",
       "\n",
       "  cityCenters_nearest  parks_around3000  parks_nearest  ponds_around3000  \\\n",
       "0             16028.0               1.0          482.0               2.0   \n",
       "1             18603.0               0.0            NaN               0.0   \n",
       "2             13933.0               1.0           90.0               2.0   \n",
       "3              6800.0               2.0           84.0               3.0   \n",
       "4              8098.0               2.0          112.0               1.0   \n",
       "\n",
       "   ponds_nearest  days_exposition  \n",
       "0          755.0              NaN  \n",
       "1            NaN             81.0  \n",
       "2          574.0            558.0  \n",
       "3          234.0            424.0  \n",
       "4           48.0            121.0  \n",
       "\n",
       "[5 rows x 22 columns]"
      ]
     },
     "execution_count": 41,
     "metadata": {},
     "output_type": "execute_result"
    }
   ],
   "source": [
    "import pandas as pd\n",
    "import matplotlib.pyplot as plt\n",
    "\n",
    "# Загружаем CSV-данные и отображаем\n",
    "df = pd.read_csv('/datasets/real_estate_data.csv', sep='\\t')\n",
    "df.head()"
   ]
  },
  {
   "cell_type": "code",
   "execution_count": 2,
   "metadata": {},
   "outputs": [
    {
     "name": "stdout",
     "output_type": "stream",
     "text": [
      "<class 'pandas.core.frame.DataFrame'>\n",
      "RangeIndex: 23699 entries, 0 to 23698\n",
      "Data columns (total 22 columns):\n",
      " #   Column                Non-Null Count  Dtype  \n",
      "---  ------                --------------  -----  \n",
      " 0   total_images          23699 non-null  int64  \n",
      " 1   last_price            23699 non-null  float64\n",
      " 2   total_area            23699 non-null  float64\n",
      " 3   first_day_exposition  23699 non-null  object \n",
      " 4   rooms                 23699 non-null  int64  \n",
      " 5   ceiling_height        14504 non-null  float64\n",
      " 6   floors_total          23613 non-null  float64\n",
      " 7   living_area           21796 non-null  float64\n",
      " 8   floor                 23699 non-null  int64  \n",
      " 9   is_apartment          2775 non-null   object \n",
      " 10  studio                23699 non-null  bool   \n",
      " 11  open_plan             23699 non-null  bool   \n",
      " 12  kitchen_area          21421 non-null  float64\n",
      " 13  balcony               12180 non-null  float64\n",
      " 14  locality_name         23650 non-null  object \n",
      " 15  airports_nearest      18157 non-null  float64\n",
      " 16  cityCenters_nearest   18180 non-null  float64\n",
      " 17  parks_around3000      18181 non-null  float64\n",
      " 18  parks_nearest         8079 non-null   float64\n",
      " 19  ponds_around3000      18181 non-null  float64\n",
      " 20  ponds_nearest         9110 non-null   float64\n",
      " 21  days_exposition       20518 non-null  float64\n",
      "dtypes: bool(2), float64(14), int64(3), object(3)\n",
      "memory usage: 3.7+ MB\n"
     ]
    }
   ],
   "source": [
    "#Получение сведений о датафрейме\n",
    "df.info()"
   ]
  },
  {
   "cell_type": "code",
   "execution_count": 3,
   "metadata": {},
   "outputs": [
    {
     "data": {
      "text/plain": [
       "0"
      ]
     },
     "execution_count": 3,
     "metadata": {},
     "output_type": "execute_result"
    }
   ],
   "source": [
    "#Проверяем дубликаты в датафрейме - явные дубликаты отсутствуют\n",
    "df.duplicated().sum()"
   ]
  },
  {
   "cell_type": "code",
   "execution_count": 4,
   "metadata": {},
   "outputs": [
    {
     "data": {
      "text/plain": [
       "total_images                0\n",
       "last_price                  0\n",
       "total_area                  0\n",
       "first_day_exposition        0\n",
       "rooms                       0\n",
       "ceiling_height           9195\n",
       "floors_total               86\n",
       "living_area              1903\n",
       "floor                       0\n",
       "is_apartment            20924\n",
       "studio                      0\n",
       "open_plan                   0\n",
       "kitchen_area             2278\n",
       "balcony                 11519\n",
       "locality_name              49\n",
       "airports_nearest         5542\n",
       "cityCenters_nearest      5519\n",
       "parks_around3000         5518\n",
       "parks_nearest           15620\n",
       "ponds_around3000         5518\n",
       "ponds_nearest           14589\n",
       "days_exposition          3181\n",
       "dtype: int64"
      ]
     },
     "execution_count": 4,
     "metadata": {},
     "output_type": "execute_result"
    }
   ],
   "source": [
    "#Проверяем пропуски в датфрейме - 101441 пропущенных значений\n",
    "df.isna().sum()"
   ]
  },
  {
   "cell_type": "code",
   "execution_count": 5,
   "metadata": {},
   "outputs": [
    {
     "data": {
      "image/png": "[encoded data removed]",
      "text/plain": [
       "<Figure size 1080x1440 with 20 Axes>"
      ]
     },
     "metadata": {
      "needs_background": "light"
     },
     "output_type": "display_data"
    }
   ],
   "source": [
    "#Построим гистограммы\n",
    "df.hist(figsize=(15, 20));"
   ]
  },
  {
   "cell_type": "markdown",
   "metadata": {},
   "source": [
    "**Вывод**<br>\n",
    "В датафрейме содержится 23699 записей, в которых можно наблюдать: <br>\n",
    "1.Неправильные типы данных<br>\n",
    "2.Пропущенные значения<br>\n",
    "3.Гистограммы с аномальными значениями<br>\n",
    "Необходимо провести дальнейшую обработку данных, включая обработку пропущенных значений и корректировку типов данных."
   ]
  },
  {
   "cell_type": "markdown",
   "metadata": {
    "id": "-O5NtivEAwb9"
   },
   "source": [
    "### Выполните предобработку данных"
   ]
  },
  {
   "cell_type": "code",
   "execution_count": 42,
   "metadata": {
    "id": "7v3vAeTuAwb-"
   },
   "outputs": [],
   "source": [
    "#2.1 Заполним пропущенные значения\n",
    "\n",
    "# Столбец \"is_apartment\" имеет 20924 пропуска: Предполагаю, что если данные о квартире не указаны как апартаменты, то они таковыми не являются. Пропущенные значения можно заменить на False.\n",
    "df['is_apartment'] = df['is_apartment'].fillna(False)\n",
    "df['is_apartment'] = df['is_apartment'].astype(bool)"
   ]
  },
  {
   "cell_type": "code",
   "execution_count": 43,
   "metadata": {
    "id": "QCcvyY6YAwb-"
   },
   "outputs": [],
   "source": [
    "# Столбец \"ceiling_height\" имеет 9195 пропуска: Предполагаю, что пропуски о высоте потолков можно заменить медианным значением, так как это значение не должно иметь сильных выбросов\n",
    "df['ceiling_height'] = df['ceiling_height'].fillna(df['ceiling_height'].median())"
   ]
  },
  {
   "cell_type": "code",
   "execution_count": 44,
   "metadata": {
    "id": "Z8eJek3IAwb-"
   },
   "outputs": [],
   "source": [
    "# Столбец \"floors_total\" имеет 86 пропусков: Предполагаю, что пропуски по количеству этажей можно заменить медианным значением, так как это значением не должно иметь сильных выбросов\n",
    "df['floors_total'] = df['floors_total'].fillna(df['floors_total'].median())"
   ]
  },
  {
   "cell_type": "code",
   "execution_count": 45,
   "metadata": {},
   "outputs": [],
   "source": [
    "# Пропуски в столбцах \"living area\" (1903 пропуска) и \"kitchen_area\" (2278 пропусков) можно рассчитать через долю от общей площади всего помещения \"total_area\"\n",
    "median_living_area_ratio = (df['living_area'] / df['total_area']).median()\n",
    "df['living_area'] = df['living_area'].fillna(df['total_area'] * median_living_area_ratio)\n",
    "\n",
    "median_kitchen_area_ratio = (df['kitchen_area'] / df['total_area']).median()\n",
    "df['kitchen_area'] = df['kitchen_area'].fillna(df['total_area'] * median_kitchen_area_ratio)"
   ]
  },
  {
   "cell_type": "code",
   "execution_count": 46,
   "metadata": {},
   "outputs": [],
   "source": [
    "# Столбец \"balcony\" имеет 11519 пропусков: Сделаю предположение, что если информации о балконе нет, то забыли указать по ошибке или посчитали пропустить\n",
    "df['balcony'] = df['balcony'].fillna(0)"
   ]
  },
  {
   "cell_type": "markdown",
   "metadata": {},
   "source": [
    "Cтолбец \"days_exposition\" имеет 3181 пропуск: так как  неизвестно, сколько дней объявление было в публикации, оставлю это поле пустым."
   ]
  },
  {
   "cell_type": "markdown",
   "metadata": {},
   "source": [
    "Географические данные (airports_nearest, cityCenters_nearest, parks_around3000, parks_nearest, ponds_around3000, ponds_nearest): Эти данные могут быть важными, и их сложнее предсказать. Лучше оставить пропуски, так как они могут свидетельствовать об отсутствии этих объектов поблизости. Эти пропуски сами по себе могут быть значимыми."
   ]
  },
  {
   "cell_type": "code",
   "execution_count": 11,
   "metadata": {},
   "outputs": [
    {
     "data": {
      "text/plain": [
       "array(['2019-03-07T00:00:00.000000000', '2018-12-04T00:00:00.000000000',\n",
       "       '2015-08-20T00:00:00.000000000', ...,\n",
       "       '2014-12-29T00:00:00.000000000', '2016-09-12T00:00:00.000000000',\n",
       "       '2015-07-19T00:00:00.000000000'], dtype='datetime64[ns]')"
      ]
     },
     "execution_count": 11,
     "metadata": {},
     "output_type": "execute_result"
    }
   ],
   "source": [
    "#2.2 Займемся проверкой остальных столбцов на корректность форматов, наименований\n",
    "# В столбце first_day_exposition необходимо преобразовать строковые данные в формат даты\n",
    "df['first_day_exposition'] = pd.to_datetime(df['first_day_exposition'], format='%Y-%m-%dT%H:%M:%S')\n",
    "#После преобразования следует посчитать уникальные значения для упрощения дальнейшей обработки\n",
    "df['first_day_exposition'].unique()"
   ]
  },
  {
   "cell_type": "code",
   "execution_count": 12,
   "metadata": {},
   "outputs": [
    {
     "data": {
      "text/plain": [
       "array([16028., 18603., 13933., ..., 27977.,  7262.,  6263.])"
      ]
     },
     "execution_count": 12,
     "metadata": {},
     "output_type": "execute_result"
    }
   ],
   "source": [
    "# Столбец \"cityCenters_nearest\" не соответствует правилам именования. Переименуем\n",
    "df.rename(columns={'cityCenters_nearest': 'city_centers_nearest'}, inplace=True)\n",
    "df['city_centers_nearest'].unique()"
   ]
  },
  {
   "cell_type": "code",
   "execution_count": 13,
   "metadata": {},
   "outputs": [],
   "source": [
    "# Преобразуем столбец \"last_price\" в целочисленный формат для удобства дальнейшей работы\n",
    "df['last_price'] = df['last_price'].astype(int)"
   ]
  },
  {
   "cell_type": "code",
   "execution_count": 14,
   "metadata": {},
   "outputs": [],
   "source": [
    "# Такое же действие произведем со столбцом \"total_area\"\n",
    "df['total_area'] = df['total_area'].astype(int)"
   ]
  },
  {
   "cell_type": "code",
   "execution_count": 15,
   "metadata": {},
   "outputs": [
    {
     "data": {
      "text/plain": [
       "{'  Большая Ижора',\n",
       " '  Будогощь',\n",
       " '  Важины',\n",
       " '  Вещево',\n",
       " '  Виллози',\n",
       " '  Вознесенье',\n",
       " '  Вырица',\n",
       " '  Громово',\n",
       " '  Дружная Горка',\n",
       " '  Дубровка',\n",
       " '  Ефимовский',\n",
       " '  Кивеннапа Север',\n",
       " '  Кондратьево',\n",
       " '  Корнево',\n",
       " '  Красный Бор',\n",
       " '  Кузнечное',\n",
       " '  Кузьмоловский',\n",
       " '  Лебяжье',\n",
       " '  Лесное',\n",
       " '  Лесогорский',\n",
       " '  Лужайка',\n",
       " '  Мга',\n",
       " '  Назия',\n",
       " '  Никольский',\n",
       " '  Новоселье',\n",
       " '  Павлово',\n",
       " '  Приветнинское',\n",
       " '  Приладожский',\n",
       " '  Рахья',\n",
       " '  Рощино',\n",
       " '  Рябово',\n",
       " '  Свирь',\n",
       " '  Свирьстрой',\n",
       " '  Сиверский',\n",
       " '  Синявино',\n",
       " '  Советский',\n",
       " '  Счастье',\n",
       " '  Тайцы',\n",
       " '  Токсово',\n",
       " '  Ульяновка',\n",
       " '  Федоровское',\n",
       " '  Форносово',\n",
       " '  Янино-1',\n",
       " '  имени Морозова',\n",
       " '  имени Свердлова',\n",
       " ' Агалатово',\n",
       " ' Александровская',\n",
       " ' Алексеевка',\n",
       " ' Аннино',\n",
       " ' Аро',\n",
       " ' Барышево',\n",
       " ' Батово',\n",
       " ' Бегуницы',\n",
       " ' Белогорка',\n",
       " ' Белоостров',\n",
       " ' Большая Вруда',\n",
       " ' Большая Пустомержа',\n",
       " ' Большие Колпаны',\n",
       " ' Большое Рейзино',\n",
       " ' Большой Сабск',\n",
       " ' Бор',\n",
       " ' Борисова Грива',\n",
       " ' Бугры',\n",
       " ' Ваганово',\n",
       " ' Вартемяги',\n",
       " ' Вахнова Кара',\n",
       " ' Возрождение',\n",
       " ' Войсковицы',\n",
       " ' Войскорово',\n",
       " ' Володарское',\n",
       " ' Выскатка',\n",
       " ' Высокоключевой',\n",
       " ' Гаврилово',\n",
       " ' Гарболово',\n",
       " ' Гладкое',\n",
       " ' Глажево',\n",
       " ' Глебычево',\n",
       " ' Глинка',\n",
       " ' Гончарово',\n",
       " ' Горбунки',\n",
       " ' Гостилицы',\n",
       " ' Громово',\n",
       " ' Дзержинского',\n",
       " ' Дружноселье',\n",
       " ' Елизаветино',\n",
       " ' Жил',\n",
       " ' Жилгородок',\n",
       " ' Житково',\n",
       " ' Заводской',\n",
       " ' Заклинье',\n",
       " ' Заневка',\n",
       " ' Запорожское',\n",
       " ' Зимитицы',\n",
       " ' Извара',\n",
       " ' Ильичево',\n",
       " ' Иссад',\n",
       " ' Калитино',\n",
       " ' Каложицы',\n",
       " ' Кальтино',\n",
       " ' Камышовка',\n",
       " ' Каськово',\n",
       " ' Келози',\n",
       " ' Кикерино',\n",
       " ' Кингисеппский',\n",
       " ' Кипень',\n",
       " ' Кирпичное',\n",
       " ' Кисельня',\n",
       " ' Кобралово',\n",
       " ' Кобринское',\n",
       " ' Колтуши',\n",
       " ' Коммунары',\n",
       " ' Копорье',\n",
       " ' Коркино',\n",
       " ' Коробицыно',\n",
       " ' Котельский',\n",
       " ' Котлы',\n",
       " ' Красная Долина',\n",
       " ' Красносельское',\n",
       " ' Кривко',\n",
       " ' Кудрово',\n",
       " ' Кузьмолово',\n",
       " ' Курковицы',\n",
       " ' Куровицы',\n",
       " ' Куттузи',\n",
       " ' Лаврики',\n",
       " ' Лаголово',\n",
       " ' Лампово',\n",
       " ' Левашово',\n",
       " ' Ленинское',\n",
       " ' Лесколово',\n",
       " ' Лесная Поляна',\n",
       " ' Лесное',\n",
       " ' Лисий Нос',\n",
       " ' Лопухинка',\n",
       " ' Лукаши',\n",
       " ' Лупполово',\n",
       " ' Любань',\n",
       " ' Малая Романовка',\n",
       " ' Малое Верево',\n",
       " ' Малое Карлино',\n",
       " ' Малые Колпаны',\n",
       " ' Мануйлово',\n",
       " ' Мельниково',\n",
       " ' Меньково',\n",
       " ' Металлострой',\n",
       " ' Мины',\n",
       " ' Мистолово',\n",
       " ' Мичуринское',\n",
       " ' Молодежное',\n",
       " ' Молодцово',\n",
       " ' Мурино',\n",
       " ' Мыза-Ивановка',\n",
       " ' Ненимяки',\n",
       " ' Нижние Осельки',\n",
       " ' Нижняя',\n",
       " ' Низино',\n",
       " ' Никольское',\n",
       " ' Новая Ропша',\n",
       " ' Новогорелово',\n",
       " ' Новое Девяткино',\n",
       " ' Новолисино',\n",
       " ' Новый Свет',\n",
       " ' Новый Учхоз',\n",
       " ' Нурма',\n",
       " ' Оредеж',\n",
       " ' Оржицы',\n",
       " ' Павлово',\n",
       " ' Пансионат Зеленый Бор',\n",
       " ' Парголово',\n",
       " ' Парицы',\n",
       " ' Паша',\n",
       " ' Пельгора',\n",
       " ' Пеники',\n",
       " ' Первомайское',\n",
       " ' Перово',\n",
       " ' Песочный',\n",
       " ' Петро-Славянка',\n",
       " ' Петровское',\n",
       " ' Пижма',\n",
       " ' Пикколово',\n",
       " ' Платформа 69-й километр',\n",
       " ' Плодовое',\n",
       " ' Плоское',\n",
       " ' Победа',\n",
       " ' Поляны',\n",
       " ' Понтонный',\n",
       " ' Почап',\n",
       " ' Починок',\n",
       " ' Пригородный',\n",
       " ' Приладожский',\n",
       " ' Пудомяги',\n",
       " ' Пудость',\n",
       " ' Пустынка',\n",
       " ' Путилово',\n",
       " ' Пушное',\n",
       " ' Пчева',\n",
       " ' Пчевжа',\n",
       " ' Рабитицы',\n",
       " ' Разбегаево',\n",
       " ' Раздолье',\n",
       " ' Разметелево',\n",
       " ' Рапполово',\n",
       " ' Рахья',\n",
       " ' Реброво',\n",
       " ' Репино',\n",
       " ' Рождествено',\n",
       " ' Романовка',\n",
       " ' Ромашки',\n",
       " ' Ропша',\n",
       " ' Русско',\n",
       " ' Русско-Высоцкое',\n",
       " ' Рябово',\n",
       " ' Садко',\n",
       " ' Саперное',\n",
       " ' Саперный',\n",
       " ' Севастьяново',\n",
       " ' Селезнево',\n",
       " ' Сельцо',\n",
       " ' Семиозерье',\n",
       " ' Семрино',\n",
       " ' Серебрянский',\n",
       " ' Сижно',\n",
       " ' Снегиревка',\n",
       " ' Совхозный',\n",
       " ' Сосново',\n",
       " ' Старая',\n",
       " ' Старая Ладога',\n",
       " ' Старая Малукса',\n",
       " ' Старая Пустошь',\n",
       " ' Старое Хинколово',\n",
       " ' Старополье',\n",
       " ' Старосиверская',\n",
       " ' Старые Бегуницы',\n",
       " ' Стеклянный',\n",
       " ' Стрельна',\n",
       " ' Суйда',\n",
       " ' Сумино',\n",
       " ' Суоранда',\n",
       " ' Суходолье',\n",
       " ' Сяськелево',\n",
       " ' Тарасово',\n",
       " ' Тельмана',\n",
       " ' Терволово',\n",
       " ' Терпилицы',\n",
       " ' Тесово-4',\n",
       " ' Тихковицы',\n",
       " ' Тойворово',\n",
       " ' Торковичи',\n",
       " ' Торосово',\n",
       " ' Торошковичи',\n",
       " ' Торфяное',\n",
       " ' Трубников Бор',\n",
       " ' Углово',\n",
       " ' Усть-Ижора',\n",
       " ' Усть-Луга',\n",
       " ' Ушаки',\n",
       " ' Фалилеево',\n",
       " ' Федоровское',\n",
       " ' Форт Красная Горка',\n",
       " ' Хапо-Ое',\n",
       " ' Хязельки',\n",
       " ' Цвелодубово',\n",
       " ' Цвылево',\n",
       " ' Чудской Бор',\n",
       " ' Шпаньково',\n",
       " ' Шугозеро',\n",
       " ' Шум',\n",
       " ' Шушары',\n",
       " ' Щеглово',\n",
       " ' Юкки',\n",
       " ' Ялгино',\n",
       " ' Яльгелево',\n",
       " ' Ям-Тесово',\n",
       " 'Unknown',\n",
       " 'Бокситогорск',\n",
       " 'Волосово',\n",
       " 'Волхов',\n",
       " 'Всеволожск',\n",
       " 'Выборг',\n",
       " 'Высоцк',\n",
       " 'Гатчина',\n",
       " 'Зеленогорск',\n",
       " 'Ивангород',\n",
       " 'Каменногорск',\n",
       " 'Кингисепп',\n",
       " 'Кириши',\n",
       " 'Кировск',\n",
       " 'Колпино',\n",
       " 'Коммунар',\n",
       " 'Красное Село',\n",
       " 'Кронштадт',\n",
       " 'Кудрово',\n",
       " 'Лодейное Поле',\n",
       " 'Ломоносов',\n",
       " 'Луга',\n",
       " 'Любань',\n",
       " 'Мурино',\n",
       " 'Никольское',\n",
       " 'Новая Ладога',\n",
       " 'Отрадное',\n",
       " 'Павловск',\n",
       " 'Петергоф',\n",
       " 'Пикалево',\n",
       " 'Подпорожье',\n",
       " 'Приморск',\n",
       " 'Приозерск',\n",
       " 'Пушкин',\n",
       " 'Санкт-Петербург',\n",
       " 'Светогорск',\n",
       " 'Сертолово',\n",
       " 'Сестрорецк',\n",
       " 'Сланцы',\n",
       " 'Сосновый Бор',\n",
       " 'Сясьстрой',\n",
       " 'Тихвин',\n",
       " 'Тосно',\n",
       " 'Шлиссельбург'}"
      ]
     },
     "execution_count": 15,
     "metadata": {},
     "output_type": "execute_result"
    }
   ],
   "source": [
    "# Значения в столбце \"locality_name\" имеют разный признак населенного пункта. Необходимо стандартизировать значения\n",
    "\n",
    "df['locality_name'] = df['locality_name'].fillna('Unknown')\n",
    "\n",
    "df['locality_name'] = (\n",
    "    df['locality_name']\n",
    "    .str.replace('ё','е')\n",
    "    .replace(['деревня', 'поселок', 'поселок городского типа', 'садоводческое некоммерческое товарищество', 'садовое товарищество', 'село', 'городского типа', 'городской', 'коттеджный', 'при железнодорожной станции', 'станции', ], '', regex=True)\n",
    ")\n",
    "\n",
    "#После подсчета уникальных значений, были выявлены пропуски, а это значит, что их необходимо заменить\n",
    "df['locality_name'] = df['locality_name'].fillna('Unknown')\n",
    "\n",
    "set(df['locality_name'].unique())"
   ]
  },
  {
   "cell_type": "markdown",
   "metadata": {},
   "source": [
    "**Причины пропусков данных:**\n",
    "1. Некоторые данные могли не считаться обязательными для заполнения, что привело к частичным пропускам.\n",
    "2. Проблемы с системами сбора или хранения данных могли привести к пропускам.\n",
    "3. Невнимательность при вводе данных, ошибки или намеренное игнорирование определенных полей.\n",
    "4. В некоторых случаях продавец мог просто не обладать нужной информацией"
   ]
  },
  {
   "cell_type": "markdown",
   "metadata": {},
   "source": [
    "**Добавляем в таблицу новые столбцы**"
   ]
  },
  {
   "cell_type": "code",
   "execution_count": 16,
   "metadata": {},
   "outputs": [
    {
     "data": {
      "text/plain": [
       "array([120370.37,  83750.  ,  92785.71, ...,  72932.33, 150986.84,\n",
       "        42187.5 ])"
      ]
     },
     "execution_count": 16,
     "metadata": {},
     "output_type": "execute_result"
    }
   ],
   "source": [
    "#Цена одного квадратного метра\n",
    "df['price_per_square_meter'] = (df['last_price'] / df['total_area']).round(2)\n",
    "df['price_per_square_meter'].unique()"
   ]
  },
  {
   "cell_type": "code",
   "execution_count": 17,
   "metadata": {},
   "outputs": [
    {
     "data": {
      "text/plain": [
       "array([2019, 2018, 2015, 2017, 2016, 2014])"
      ]
     },
     "execution_count": 17,
     "metadata": {},
     "output_type": "execute_result"
    }
   ],
   "source": [
    "#Добавление столбцов с днем недели, месяцем и годом публикации объявления\n",
    "# День недели (0 — понедельник, 1 — вторник и т.д.)\n",
    "df['day_of_week'] = df['first_day_exposition'].dt.dayofweek\n",
    "df['day_of_week'].unique()\n",
    "\n",
    "# Месяц публикации\n",
    "df['month_of_publication'] = df['first_day_exposition'].dt.month\n",
    "df['month_of_publication'].unique()\n",
    "\n",
    "# Год публикации\n",
    "df['year_of_publication'] = df['first_day_exposition'].dt.year\n",
    "df['year_of_publication'].unique()"
   ]
  },
  {
   "cell_type": "code",
   "execution_count": 18,
   "metadata": {},
   "outputs": [
    {
     "data": {
      "text/plain": [
       "array(['другой', 'первый', 'последний'], dtype=object)"
      ]
     },
     "execution_count": 18,
     "metadata": {},
     "output_type": "execute_result"
    }
   ],
   "source": [
    "#Добавление столбца с типом этажа квартиры\n",
    "def floor_type(row):\n",
    "    if row['floor'] == 1:\n",
    "        return 'первый'\n",
    "    elif row['floor'] == row['floors_total']:\n",
    "        return 'последний'\n",
    "    else:\n",
    "        return 'другой'\n",
    "\n",
    "df['floor_type'] = df.apply(floor_type, axis=1)\n",
    "df['floor_type'].unique()"
   ]
  },
  {
   "cell_type": "code",
   "execution_count": 19,
   "metadata": {},
   "outputs": [
    {
     "data": {
      "text/plain": [
       "array([                  16,                   19,                   14,\n",
       "                          7,                    8, -9223372036854775808,\n",
       "                         12,                   15,                   52,\n",
       "                         33,                   31,                   11,\n",
       "                         13,                   10,                    2,\n",
       "                         32,                    4,                   17,\n",
       "                         30,                    5,                   51,\n",
       "                         50,                   24,                   18,\n",
       "                          9,                   28,                    3,\n",
       "                          6,                   27,                   21,\n",
       "                         49,                   35,                   36,\n",
       "                         34,                    1,                   29,\n",
       "                         26,                   53,                   22,\n",
       "                         55,                   20,                   23,\n",
       "                         25,                    0,                   66,\n",
       "                         47,                   40,                   57,\n",
       "                         37,                   41,                   43,\n",
       "                         48,                   62,                   60,\n",
       "                         39,                   42,                   65,\n",
       "                         54,                   59,                   45,\n",
       "                         61,                   63])"
      ]
     },
     "execution_count": 19,
     "metadata": {},
     "output_type": "execute_result"
    }
   ],
   "source": [
    "#Добавление столбца с расстоянием до центра города в километрах\n",
    "df['city_centers_nearest_km'] = (df['city_centers_nearest'] / 1000).round()\n",
    "df['city_centers_nearest_km'].unique().astype(int)"
   ]
  },
  {
   "cell_type": "markdown",
   "metadata": {
    "id": "pPyxrKWTAwb-"
   },
   "source": [
    "### Проведите исследовательский анализ данных"
   ]
  },
  {
   "cell_type": "code",
   "execution_count": 20,
   "metadata": {
    "id": "V2f0D3kLAwb-"
   },
   "outputs": [
    {
     "name": "stdout",
     "output_type": "stream",
     "text": [
      "count    23699.000000\n",
      "mean        60.120511\n",
      "std         35.665822\n",
      "min         12.000000\n",
      "25%         40.000000\n",
      "50%         52.000000\n",
      "75%         69.000000\n",
      "max        900.000000\n",
      "Name: total_area, dtype: float64\n"
     ]
    },
    {
     "data": {
      "image/png": "[encoded data removed]",
      "text/plain": [
       "<Figure size 432x288 with 1 Axes>"
      ]
     },
     "metadata": {
      "needs_background": "light"
     },
     "output_type": "display_data"
    }
   ],
   "source": [
    "#Общая площадь\n",
    "import matplotlib.pyplot as plt\n",
    "\n",
    "print(df['total_area'].describe())\n",
    "\n",
    "plt.hist(df['total_area'], bins=100, range=(12,150))\n",
    "plt.title('Зависимость квартир в продаже от площади квартир')\n",
    "plt.xlabel('Квадратные метры')\n",
    "plt.ylabel('Количество квартир')\n",
    "plt.show()"
   ]
  },
  {
   "cell_type": "markdown",
   "metadata": {},
   "source": [
    "**Вывод:**\n",
    "\n",
    "Большинство квартир имеют общую площадь от 40 до 69 м².\n",
    "Квартиры с площадью менее 25 м² и более 140 м² встречаются крайне редко и были исключены как аномалии. Такие значения могут быть ошибочными или же это исключительные случаи, которые искажают общую картину."
   ]
  },
  {
   "cell_type": "code",
   "execution_count": 21,
   "metadata": {},
   "outputs": [
    {
     "name": "stdout",
     "output_type": "stream",
     "text": [
      "count    23699.000000\n",
      "mean        34.578214\n",
      "std         22.340665\n",
      "min          2.000000\n",
      "25%         19.000000\n",
      "50%         30.000000\n",
      "75%         42.100000\n",
      "max        409.700000\n",
      "Name: living_area, dtype: float64\n"
     ]
    },
    {
     "data": {
      "image/png": "[encoded data removed]",
      "text/plain": [
       "<Figure size 432x288 with 1 Axes>"
      ]
     },
     "metadata": {
      "needs_background": "light"
     },
     "output_type": "display_data"
    }
   ],
   "source": [
    "#Жилая площадь\n",
    "print(df['living_area'].describe())\n",
    "\n",
    "plt.hist(df['living_area'], bins=100, range=(10,42))\n",
    "plt.title('Распределение жилой площади')\n",
    "plt.xlabel('Жилая площадь (м²)')\n",
    "plt.ylabel('Количество')\n",
    "plt.show()\n"
   ]
  },
  {
   "cell_type": "markdown",
   "metadata": {},
   "source": [
    "**Вывод:**\n",
    "\n",
    "Жилая площадь большинства квартир находится в диапазоне от 18 до 30 м².\n",
    "Значения менее 12 м² и более 40 м² были удалены, так как они не характерны для обычных квартир. Это могло быть результатом ошибок при вводе данных."
   ]
  },
  {
   "cell_type": "code",
   "execution_count": 22,
   "metadata": {},
   "outputs": [
    {
     "name": "stdout",
     "output_type": "stream",
     "text": [
      "count    23699.000000\n",
      "mean        10.491431\n",
      "std          6.029020\n",
      "min          1.300000\n",
      "25%          7.000000\n",
      "50%          9.000000\n",
      "75%         12.000000\n",
      "max        112.000000\n",
      "Name: kitchen_area, dtype: float64\n"
     ]
    },
    {
     "data": {
      "image/png": "[encoded data removed]",
      "text/plain": [
       "<Figure size 432x288 with 1 Axes>"
      ]
     },
     "metadata": {
      "needs_background": "light"
     },
     "output_type": "display_data"
    }
   ],
   "source": [
    "# Площадь кухни\n",
    "print(df['kitchen_area'].describe())\n",
    "\n",
    "plt.hist(df['kitchen_area'], bins=100, range=(5,15))\n",
    "plt.title('Распределение площади кухни')\n",
    "plt.xlabel('Площадь кухни (м²)')\n",
    "plt.ylabel('Количество')\n",
    "plt.show()"
   ]
  },
  {
   "cell_type": "markdown",
   "metadata": {},
   "source": [
    "**Вывод:**\n",
    "\n",
    "Типичная площадь кухни варьируется от 6 до 12 м².\n",
    "Кухни площадью менее 5 м² и более 15 м² были исключены как аномалии. Площадь менее 3 м² слишком мала, чтобы быть полноценной кухней, а площади более 15 м² встречаются крайне редко."
   ]
  },
  {
   "cell_type": "code",
   "execution_count": 23,
   "metadata": {},
   "outputs": [
    {
     "name": "stdout",
     "output_type": "stream",
     "text": [
      "count    2.369900e+04\n",
      "mean     6.541549e+06\n",
      "std      1.088701e+07\n",
      "min      1.219000e+04\n",
      "25%      3.400000e+06\n",
      "50%      4.650000e+06\n",
      "75%      6.800000e+06\n",
      "max      7.630000e+08\n",
      "Name: last_price, dtype: float64\n"
     ]
    },
    {
     "data": {
      "image/png": "[encoded data removed]",
      "text/plain": [
       "<Figure size 432x288 with 1 Axes>"
      ]
     },
     "metadata": {
      "needs_background": "light"
     },
     "output_type": "display_data"
    }
   ],
   "source": [
    "# Цена объекта недвижимости\n",
    "print(df['last_price'].describe())\n",
    "\n",
    "plt.hist(df['last_price'], bins=100, range=(1.219000e+04,7.630000e+06))\n",
    "plt.title('Распределение цены объекта')\n",
    "plt.xlabel('Цена объекта (руб)')\n",
    "plt.ylabel('Количество')\n",
    "plt.show()"
   ]
  },
  {
   "cell_type": "markdown",
   "metadata": {},
   "source": [
    "**Вывод:**\n",
    "\n",
    "Наиболее частые цены на квартиры составляют от 3 до 6 млн рублей.\n",
    "Цены ниже 1 млн рублей и выше 8 млн рублей были удалены из анализа как выбивающиеся значения. Это может включать как ошибки в данных, так и уникальные, но крайне редкие объекты.\n"
   ]
  },
  {
   "cell_type": "code",
   "execution_count": 24,
   "metadata": {},
   "outputs": [
    {
     "name": "stdout",
     "output_type": "stream",
     "text": [
      "count    23699.000000\n",
      "mean         2.070636\n",
      "std          1.078405\n",
      "min          0.000000\n",
      "25%          1.000000\n",
      "50%          2.000000\n",
      "75%          3.000000\n",
      "max         19.000000\n",
      "Name: rooms, dtype: float64\n"
     ]
    },
    {
     "data": {
      "image/png": "[encoded data removed]",
      "text/plain": [
       "<Figure size 432x288 with 1 Axes>"
      ]
     },
     "metadata": {
      "needs_background": "light"
     },
     "output_type": "display_data"
    }
   ],
   "source": [
    "# Количество комнат\n",
    "print(df['rooms'].describe())\n",
    "\n",
    "plt.hist(df['rooms'], bins=7, range=(0,7))\n",
    "plt.title('Распределение количества комнат')\n",
    "plt.xlabel('Количество комнат')\n",
    "plt.ylabel('Количество')\n",
    "plt.show()"
   ]
  },
  {
   "cell_type": "markdown",
   "metadata": {},
   "source": [
    "**Вывод:**\n",
    "\n",
    "Наиболее распространены квартиры с количеством комнат от 1 до 3.\n",
    "Количество комнат более 6 редко встречается и может свидетельствовать о больших многокомнатных квартирах или ошибках в данных."
   ]
  },
  {
   "cell_type": "code",
   "execution_count": 25,
   "metadata": {},
   "outputs": [
    {
     "name": "stdout",
     "output_type": "stream",
     "text": [
      "count    23699.000000\n",
      "mean         2.724358\n",
      "std          0.988298\n",
      "min          1.000000\n",
      "25%          2.600000\n",
      "50%          2.650000\n",
      "75%          2.700000\n",
      "max        100.000000\n",
      "Name: ceiling_height, dtype: float64\n"
     ]
    },
    {
     "data": {
      "image/png": "[encoded data removed]",
      "text/plain": [
       "<Figure size 432x288 with 1 Axes>"
      ]
     },
     "metadata": {
      "needs_background": "light"
     },
     "output_type": "display_data"
    }
   ],
   "source": [
    "# Высота потолков\n",
    "print(df['ceiling_height'].describe())\n",
    "\n",
    "plt.hist(df.query('(ceiling_height > 2) & (ceiling_height < 4)')['ceiling_height'], bins=30, range=(2.4,3))\n",
    "plt.title('Распределение высоты потолков')\n",
    "plt.xlabel('Высота потолков (м)')\n",
    "plt.ylabel('Количество')\n",
    "plt.show()"
   ]
  },
  {
   "cell_type": "markdown",
   "metadata": {},
   "source": [
    "**Вывод:**\n",
    "\n",
    "Большинство квартир имеют высоту потолков от 2.5 до 3 м.\n",
    "Значения высоты потолков более 3 м были скорректированы, так как вероятно, это ошибка ввода. Значения менее 2.4 м и более 3 м были исключены, так как они не соответствуют стандартам обычного жилого строительства."
   ]
  },
  {
   "cell_type": "code",
   "execution_count": 26,
   "metadata": {},
   "outputs": [
    {
     "data": {
      "image/png": "[encoded data removed]",
      "text/plain": [
       "<Figure size 360x360 with 1 Axes>"
      ]
     },
     "metadata": {
      "needs_background": "light"
     },
     "output_type": "display_data"
    }
   ],
   "source": [
    "# Тип этажа квартиры \n",
    "\n",
    "(\n",
    "    df.pivot_table(index='floor_type', values='last_price', aggfunc='median').sort_values(by='last_price', ascending=False)\n",
    "    .plot(grid=True, style='o-', figsize=(5, 5), title='Зависимость цены от этажа расположения квартиры')\n",
    ")\n",
    "\n",
    "plt.title('Распределение типа этажа квартиры')\n",
    "plt.xlabel('Тип этажа')\n",
    "plt.ylabel('Количество')\n",
    "plt.show()\n"
   ]
  },
  {
   "cell_type": "markdown",
   "metadata": {},
   "source": [
    "**Вывод:**\n",
    "\n",
    "Большинство квартир расположены на промежуточных этажах («другой» тип).\n",
    "Квартиры на первых и последних этажах встречаются реже, что может быть связано с их меньшей популярностью среди покупателей."
   ]
  },
  {
   "cell_type": "code",
   "execution_count": 27,
   "metadata": {},
   "outputs": [
    {
     "name": "stdout",
     "output_type": "stream",
     "text": [
      "count    23699.000000\n",
      "mean        10.667750\n",
      "std          6.585961\n",
      "min          1.000000\n",
      "25%          5.000000\n",
      "50%          9.000000\n",
      "75%         16.000000\n",
      "max         60.000000\n",
      "Name: floors_total, dtype: float64\n"
     ]
    },
    {
     "data": {
      "image/png": "[encoded data removed]",
      "text/plain": [
       "<Figure size 432x288 with 1 Axes>"
      ]
     },
     "metadata": {
      "needs_background": "light"
     },
     "output_type": "display_data"
    }
   ],
   "source": [
    "# Общее количество этажей в доме\n",
    "print(df['floors_total'].describe())\n",
    "\n",
    "plt.hist(df['floors_total'], bins=100, range=(1,30))\n",
    "plt.title('Распределение общего количества этажей')\n",
    "plt.xlabel('Количество этажей')\n",
    "plt.ylabel('Количество')\n",
    "plt.show()"
   ]
  },
  {
   "cell_type": "markdown",
   "metadata": {},
   "source": [
    "**Вывод:**\n",
    "\n",
    "Чаще всего встречаются дома с количеством этажей от 5 до 17.\n",
    "Дома с более чем 25 этажами встречаются крайне редко и были исключены из анализа. Это может быть либо ошибки ввода данных, либо очень специфические здания.\n"
   ]
  },
  {
   "cell_type": "code",
   "execution_count": 28,
   "metadata": {},
   "outputs": [
    {
     "name": "stdout",
     "output_type": "stream",
     "text": [
      "count    18180.000000\n",
      "mean        14.184818\n",
      "std          8.616194\n",
      "min          0.000000\n",
      "25%          9.000000\n",
      "50%         13.000000\n",
      "75%         16.000000\n",
      "max         66.000000\n",
      "Name: city_centers_nearest_km, dtype: float64\n"
     ]
    },
    {
     "data": {
      "image/png": "[encoded data removed]",
      "text/plain": [
       "<Figure size 432x288 with 1 Axes>"
      ]
     },
     "metadata": {
      "needs_background": "light"
     },
     "output_type": "display_data"
    }
   ],
   "source": [
    "# Расстояние до центра города\n",
    "print(df['city_centers_nearest_km'].describe())\n",
    "\n",
    "plt.hist(df['city_centers_nearest_km'], bins=100, range=(0,40))\n",
    "plt.title('Распределение расстояния до центра города')\n",
    "plt.xlabel('Расстояние до центра (км)')\n",
    "plt.ylabel('Количество')\n",
    "plt.show()"
   ]
  },
  {
   "cell_type": "markdown",
   "metadata": {},
   "source": [
    "**Вывод:**\n",
    "\n",
    "Большинство квартир расположены на расстоянии до 15 км от центра города.\n",
    "Квартиры, расположенные более чем в 35 км от центра, были исключены как аномальные значения. Это может свидетельствовать либо об ошибках в данных, либо о редких объектах, которые не соответствуют основной выборке."
   ]
  },
  {
   "cell_type": "code",
   "execution_count": 29,
   "metadata": {},
   "outputs": [
    {
     "name": "stdout",
     "output_type": "stream",
     "text": [
      "count    8079.000000\n",
      "mean      490.804555\n",
      "std       342.317995\n",
      "min         1.000000\n",
      "25%       288.000000\n",
      "50%       455.000000\n",
      "75%       612.000000\n",
      "max      3190.000000\n",
      "Name: parks_nearest, dtype: float64\n"
     ]
    },
    {
     "data": {
      "image/png": "[encoded data removed]",
      "text/plain": [
       "<Figure size 432x288 with 1 Axes>"
      ]
     },
     "metadata": {
      "needs_background": "light"
     },
     "output_type": "display_data"
    }
   ],
   "source": [
    "# Расстояние до ближайшего парка\n",
    "print(df['parks_nearest'].describe())\n",
    "\n",
    "plt.hist(df['parks_nearest'], bins=100, range=(100,1000))\n",
    "plt.title('Распределение расстояния до ближайшего парка')\n",
    "plt.xlabel('Расстояние до парка (м)')\n",
    "plt.ylabel('Количество')\n",
    "plt.show()"
   ]
  },
  {
   "cell_type": "markdown",
   "metadata": {},
   "source": [
    "**Вывод:**\n",
    "\n",
    "Большинство квартир расположены на расстоянии до 1 км от ближайшего парка.\n",
    "Значения более 1 км были удалены, так как это может быть результатом ошибок ввода данных или нехарактерных объектов."
   ]
  },
  {
   "cell_type": "code",
   "execution_count": 30,
   "metadata": {},
   "outputs": [
    {
     "name": "stdout",
     "output_type": "stream",
     "text": [
      "count    20518.000000\n",
      "mean       180.888634\n",
      "std        219.727988\n",
      "min          1.000000\n",
      "25%         45.000000\n",
      "50%         95.000000\n",
      "75%        232.000000\n",
      "max       1580.000000\n",
      "Name: days_exposition, dtype: float64\n"
     ]
    },
    {
     "data": {
      "image/png": "[encoded data removed]",
      "text/plain": [
       "<Figure size 432x288 with 1 Axes>"
      ]
     },
     "metadata": {
      "needs_background": "light"
     },
     "output_type": "display_data"
    },
    {
     "name": "stdout",
     "output_type": "stream",
     "text": [
      "Первый квартиль (Q1, 25%): 45 дней - Быстрая продажа\n",
      "Медиана (Q2): 95 дней\n",
      "Третий квартиль (Q3, 75%): 232 дней - Долгая продажа\n",
      "Среднее время продажи: 180 дней\n"
     ]
    }
   ],
   "source": [
    "# Анализ времени продажи квартир\n",
    "print(df['days_exposition'].describe())\n",
    "\n",
    "plt.hist(df['days_exposition'], bins=100, range=(1,250))\n",
    "plt.title('Распределение времени продажи квартир')\n",
    "plt.xlabel('Количество дней на продажу')\n",
    "plt.ylabel('Количество')\n",
    "plt.show()\n",
    "\n",
    "# Квартильный анализ\n",
    "q1 = df['days_exposition'].quantile(0.25).astype(int)  \n",
    "median_days = df['days_exposition'].median().astype(int)  \n",
    "q3 = df['days_exposition'].quantile(0.75).astype(int)  \n",
    "mean_days = df['days_exposition'].mean().astype(int)\n",
    "\n",
    "print(f\"Первый квартиль (Q1, 25%): {q1} дней - Быстрая продажа\")\n",
    "print(f\"Медиана (Q2): {median_days} дней\")\n",
    "print(f\"Третий квартиль (Q3, 75%): {q3} дней - Долгая продажа\")\n",
    "print(f\"Среднее время продажи: {mean_days} дней\")\n",
    "\n",
    "fast_sales = df.query('days_exposition <= @q1')   \n",
    "normal_sales = df.query('@q1 < days_exposition <= @q3') \n",
    "slow_sales = df.query('days_exposition > @q3')  \n"
   ]
  },
  {
   "cell_type": "markdown",
   "metadata": {},
   "source": [
    "**Вывод:**\n",
    "\n",
    "Продажа в течение 45 дней является быстрой (1-й квартиль)<br>\n",
    "Продажи от 46 до до 232 дней являются нормальными (2-ой квартиль)<br>\n",
    "Продаже от 232 дней и выше являются долгими (3-ий квартиль)."
   ]
  },
  {
   "cell_type": "markdown",
   "metadata": {},
   "source": [
    "**Анализ факторов, влияющих на стоимость объекта:**\n",
    "\n",
    "\n"
   ]
  },
  {
   "cell_type": "code",
   "execution_count": 31,
   "metadata": {},
   "outputs": [
    {
     "data": {
      "image/png": "[encoded data removed]",
      "text/plain": [
       "<Figure size 720x432 with 1 Axes>"
      ]
     },
     "metadata": {
      "needs_background": "light"
     },
     "output_type": "display_data"
    },
    {
     "name": "stdout",
     "output_type": "stream",
     "text": [
      "Корреляция между общей площадью и ценой: 0.65\n"
     ]
    }
   ],
   "source": [
    "#1.Зависимость цены от общей площади\n",
    "\n",
    "plt.figure(figsize=(10, 6))\n",
    "plt.scatter(df['total_area'], df['last_price'], alpha=0.5)\n",
    "plt.title('Зависимость цены от общей площади')\n",
    "plt.xlabel('Общая площадь (м²)')\n",
    "plt.ylabel('Цена объекта (руб)')\n",
    "plt.grid(True)\n",
    "plt.show()\n",
    "\n",
    "# Корреляция\n",
    "correlation_area_price = df[['total_area', 'last_price']].corr().loc['total_area', 'last_price']\n",
    "print(f'Корреляция между общей площадью и ценой: {correlation_area_price:.2f}')"
   ]
  },
  {
   "cell_type": "markdown",
   "metadata": {},
   "source": [
    "**Вывод**\n",
    "\n",
    "Является самым значительным фактором, напрямую влияющим на стоимость квартиры. Больше площадь — выше цена"
   ]
  },
  {
   "cell_type": "code",
   "execution_count": 32,
   "metadata": {},
   "outputs": [
    {
     "data": {
      "image/png": "[encoded data removed]",
      "text/plain": [
       "<Figure size 720x432 with 1 Axes>"
      ]
     },
     "metadata": {
      "needs_background": "light"
     },
     "output_type": "display_data"
    },
    {
     "name": "stdout",
     "output_type": "stream",
     "text": [
      "Корреляция между жилой площадью и ценой: 0.59\n"
     ]
    }
   ],
   "source": [
    "#2.Зависимость цены от жилой площади\n",
    "\n",
    "plt.figure(figsize=(10, 6))\n",
    "plt.scatter(df['living_area'], df['last_price'], alpha=0.5)\n",
    "plt.title('Зависимость цены от жилой площади')\n",
    "plt.xlabel('Жилая площадь (м²)')\n",
    "plt.ylabel('Цена объекта (руб)')\n",
    "plt.grid(True)\n",
    "plt.show()\n",
    "\n",
    "# Корреляция\n",
    "correlation_living_area_price = df[['living_area', 'last_price']].corr().loc['living_area', 'last_price']\n",
    "print(f'Корреляция между жилой площадью и ценой: {correlation_living_area_price:.2f}')"
   ]
  },
  {
   "cell_type": "markdown",
   "metadata": {},
   "source": [
    "**Вывод**\n",
    "\n",
    "Влияет на цену, но в меньшей степени по сравнению с общей площадью."
   ]
  },
  {
   "cell_type": "code",
   "execution_count": 33,
   "metadata": {},
   "outputs": [
    {
     "data": {
      "image/png": "[encoded data removed]",
      "text/plain": [
       "<Figure size 720x432 with 1 Axes>"
      ]
     },
     "metadata": {
      "needs_background": "light"
     },
     "output_type": "display_data"
    },
    {
     "name": "stdout",
     "output_type": "stream",
     "text": [
      "Корреляция между площадью кухни и ценой: 0.51\n"
     ]
    }
   ],
   "source": [
    "#3.Зависимость цены от площади кухни\n",
    "plt.figure(figsize=(10, 6))\n",
    "plt.scatter(df['kitchen_area'], df['last_price'], alpha=0.5)\n",
    "plt.title('Зависимость цены от площади кухни')\n",
    "plt.xlabel('Площадь кухни (м²)')\n",
    "plt.ylabel('Цена объекта (руб)')\n",
    "plt.grid(True)\n",
    "plt.show()\n",
    "\n",
    "# Корреляция\n",
    "correlation_kitchen_area_price = df[['kitchen_area', 'last_price']].corr().loc['kitchen_area', 'last_price']\n",
    "print(f'Корреляция между площадью кухни и ценой: {correlation_kitchen_area_price:.2f}')"
   ]
  },
  {
   "cell_type": "markdown",
   "metadata": {},
   "source": [
    "**Вывод**\n",
    "\n",
    "Имеет минимальное влияние на стоимость по сравнению с другими параметрами."
   ]
  },
  {
   "cell_type": "code",
   "execution_count": 34,
   "metadata": {},
   "outputs": [
    {
     "data": {
      "image/png": "[encoded data removed]",
      "text/plain": [
       "<Figure size 360x360 with 1 Axes>"
      ]
     },
     "metadata": {
      "needs_background": "light"
     },
     "output_type": "display_data"
    }
   ],
   "source": [
    "#3.Зависимость цены от количества комнат\n",
    "(\n",
    "    df.pivot_table(index='rooms', values='last_price')\n",
    "    .plot(grid=True, style='o-', figsize=(5, 5))\n",
    ")\n",
    "plt.title('Зависимость цены от количества комнат')\n",
    "plt.show()"
   ]
  },
  {
   "cell_type": "markdown",
   "metadata": {},
   "source": [
    "**Вывод**\n",
    "\n",
    "Тоже влияет на цену, но не столь выраженно. Может зависеть от других факторов, таких как расположение."
   ]
  },
  {
   "cell_type": "code",
   "execution_count": 35,
   "metadata": {},
   "outputs": [
    {
     "data": {
      "image/png": "[encoded data removed]",
      "text/plain": [
       "<Figure size 360x360 with 1 Axes>"
      ]
     },
     "metadata": {
      "needs_background": "light"
     },
     "output_type": "display_data"
    }
   ],
   "source": [
    "#4.Зависимость цены от этажа\n",
    "(\n",
    "    df.pivot_table(index='floor_type', values='last_price')\n",
    "    .plot(grid=True, style='o-', figsize=(5, 5))\n",
    ")\n",
    "plt.title('Зависимость цены типа этажа расположения')\n",
    "plt.show()"
   ]
  },
  {
   "cell_type": "markdown",
   "metadata": {},
   "source": [
    "**Вывод**\n",
    "\n",
    "Квартиры на первом этаже дешевле, на последнем — дороже; максимальные цены у квартир, не находящихся на первом и последнем этажах."
   ]
  },
  {
   "cell_type": "code",
   "execution_count": 36,
   "metadata": {},
   "outputs": [
    {
     "data": {
      "image/png": "[encoded data removed]",
      "text/plain": [
       "<Figure size 720x432 with 1 Axes>"
      ]
     },
     "metadata": {
      "needs_background": "light"
     },
     "output_type": "display_data"
    }
   ],
   "source": [
    "#5. Зависимость цены от даты размещения объявления\n",
    "#5.1 День недели\n",
    "plt.figure(figsize=(10, 6))\n",
    "df.groupby('day_of_week')['last_price'].mean().plot(kind='bar')\n",
    "plt.title('Зависимость цены от дня недели размещения')\n",
    "plt.xlabel('День недели')\n",
    "plt.ylabel('Средняя цена объекта (руб)')\n",
    "plt.show()\n"
   ]
  },
  {
   "cell_type": "code",
   "execution_count": 37,
   "metadata": {},
   "outputs": [
    {
     "data": {
      "image/png": "[encoded data removed]",
      "text/plain": [
       "<Figure size 720x432 with 1 Axes>"
      ]
     },
     "metadata": {
      "needs_background": "light"
     },
     "output_type": "display_data"
    }
   ],
   "source": [
    "#5.2 Месяц размещения\n",
    "\n",
    "plt.figure(figsize=(10, 6))\n",
    "df.groupby('month_of_publication')['last_price'].mean().plot(kind='bar')\n",
    "plt.title('Зависимость цены от месяца размещения')\n",
    "plt.xlabel('Месяц')\n",
    "plt.ylabel('Средняя цена объекта (руб)')\n",
    "plt.show()"
   ]
  },
  {
   "cell_type": "code",
   "execution_count": 38,
   "metadata": {},
   "outputs": [
    {
     "data": {
      "image/png": "[encoded data removed]",
      "text/plain": [
       "<Figure size 720x432 with 1 Axes>"
      ]
     },
     "metadata": {
      "needs_background": "light"
     },
     "output_type": "display_data"
    }
   ],
   "source": [
    "#5.3 Год размещения\n",
    "\n",
    "plt.figure(figsize=(10, 6))\n",
    "df.groupby('year_of_publication')['last_price'].mean().plot(kind='bar')\n",
    "plt.title('Зависимость цены от года размещения')\n",
    "plt.xlabel('Год')\n",
    "plt.ylabel('Средняя цена объекта (руб)')\n",
    "plt.show()"
   ]
  },
  {
   "cell_type": "markdown",
   "metadata": {},
   "source": [
    "**Вывод:**\n",
    "\n",
    "Имеет менее выраженное влияние на цену; сезонные колебания и общий тренд роста цен видны.\n"
   ]
  },
  {
   "cell_type": "markdown",
   "metadata": {},
   "source": [
    "**Средняя цена квадратного метра в 10 населённых пунктах с наибольшим числом объявлений**\n"
   ]
  },
  {
   "cell_type": "code",
   "execution_count": 39,
   "metadata": {},
   "outputs": [
    {
     "data": {
      "text/html": [
       "<div>\n",
       "<style scoped>\n",
       "    .dataframe tbody tr th:only-of-type {\n",
       "        vertical-align: middle;\n",
       "    }\n",
       "\n",
       "    .dataframe tbody tr th {\n",
       "        vertical-align: top;\n",
       "    }\n",
       "\n",
       "    .dataframe thead th {\n",
       "        text-align: right;\n",
       "    }\n",
       "</style>\n",
       "<table border=\"1\" class=\"dataframe\">\n",
       "  <thead>\n",
       "    <tr style=\"text-align: right;\">\n",
       "      <th></th>\n",
       "      <th>count</th>\n",
       "      <th>price_per_square_meter</th>\n",
       "    </tr>\n",
       "    <tr>\n",
       "      <th>locality_name</th>\n",
       "      <th></th>\n",
       "      <th></th>\n",
       "    </tr>\n",
       "  </thead>\n",
       "  <tbody>\n",
       "    <tr>\n",
       "      <th>Санкт-Петербург</th>\n",
       "      <td>15721</td>\n",
       "      <td>115347.72</td>\n",
       "    </tr>\n",
       "    <tr>\n",
       "      <th>Пушкин</th>\n",
       "      <td>369</td>\n",
       "      <td>103611.36</td>\n",
       "    </tr>\n",
       "    <tr>\n",
       "      <th>Кудрово</th>\n",
       "      <td>299</td>\n",
       "      <td>93002.17</td>\n",
       "    </tr>\n",
       "    <tr>\n",
       "      <th>Парголово</th>\n",
       "      <td>327</td>\n",
       "      <td>90675.63</td>\n",
       "    </tr>\n",
       "    <tr>\n",
       "      <th>Мурино</th>\n",
       "      <td>556</td>\n",
       "      <td>86312.03</td>\n",
       "    </tr>\n",
       "    <tr>\n",
       "      <th>Шушары</th>\n",
       "      <td>440</td>\n",
       "      <td>79068.60</td>\n",
       "    </tr>\n",
       "    <tr>\n",
       "      <th>Колпино</th>\n",
       "      <td>338</td>\n",
       "      <td>75735.59</td>\n",
       "    </tr>\n",
       "    <tr>\n",
       "      <th>Гатчина</th>\n",
       "      <td>307</td>\n",
       "      <td>69045.52</td>\n",
       "    </tr>\n",
       "    <tr>\n",
       "      <th>Всеволожск</th>\n",
       "      <td>398</td>\n",
       "      <td>68985.24</td>\n",
       "    </tr>\n",
       "    <tr>\n",
       "      <th>Выборг</th>\n",
       "      <td>237</td>\n",
       "      <td>58296.12</td>\n",
       "    </tr>\n",
       "  </tbody>\n",
       "</table>\n",
       "</div>"
      ],
      "text/plain": [
       "                 count  price_per_square_meter\n",
       "locality_name                                 \n",
       "Санкт-Петербург  15721               115347.72\n",
       "Пушкин             369               103611.36\n",
       " Кудрово           299                93002.17\n",
       " Парголово         327                90675.63\n",
       " Мурино            556                86312.03\n",
       " Шушары            440                79068.60\n",
       "Колпино            338                75735.59\n",
       "Гатчина            307                69045.52\n",
       "Всеволожск         398                68985.24\n",
       "Выборг             237                58296.12"
      ]
     },
     "execution_count": 39,
     "metadata": {},
     "output_type": "execute_result"
    }
   ],
   "source": [
    "price_sm_name = df.pivot_table(index='locality_name', values='last_price', aggfunc=['count'])\n",
    "price_sm_name.columns = ['count']\n",
    "price_sm_name = price_sm_name.sort_values(by='count', ascending=False).head(10)\n",
    "price_sm_name['price_per_square_meter'] = df.pivot_table(index='locality_name', values='price_per_square_meter').round(2)\n",
    "price_sm_name.sort_values(by='price_per_square_meter', ascending=False)"
   ]
  },
  {
   "cell_type": "markdown",
   "metadata": {},
   "source": [
    "**Вывод**\n",
    "\n",
    "На основании сводной таблицы можно выделить населённые пункты с самой высокой и низкой средней ценой квадратного метра. Обычно более высокие цены наблюдаются в крупных городах и центральных районах."
   ]
  },
  {
   "cell_type": "markdown",
   "metadata": {},
   "source": [
    "**Средняя стоимость квартир в зависимости от расстояния до центра Санкт-Петербурга**"
   ]
  },
  {
   "cell_type": "code",
   "execution_count": 40,
   "metadata": {},
   "outputs": [
    {
     "data": {
      "image/png": "[encoded data removed]",
      "text/plain": [
       "<Figure size 720x360 with 1 Axes>"
      ]
     },
     "metadata": {
      "needs_background": "light"
     },
     "output_type": "display_data"
    }
   ],
   "source": [
    "(\n",
    "    df.query('locality_name.str.lower() == \"санкт-петербург\"')\n",
    "    .pivot_table(index='city_centers_nearest_km', values='last_price')\n",
    "    .plot(grid=True, style='o-', xlim=(0,15), figsize=(10, 5))\n",
    ")\n",
    "\n",
    "plt.title('Зависимость средней цены квартир от расстояния до центра Санкт-Петербурга')\n",
    "plt.xlabel('Расстояние до центра (км)')\n",
    "plt.ylabel('Средняя цена (руб.)')\n",
    "plt.grid(True)\n",
    "plt.xlim(0, 15)\n",
    "plt.show()"
   ]
  },
  {
   "cell_type": "markdown",
   "metadata": {},
   "source": [
    "**Вывод:**\n",
    "\n",
    "Цена объектов недвижимости в Санкт-Петербурге имеет отрицательную корреляцию с расстоянием до центра города. Чем ближе квартира к центру, тем она дороже. Этот вывод может быть использован для принятия решений как покупателями, так и инвесторами в недвижимость."
   ]
  },
  {
   "cell_type": "markdown",
   "metadata": {
    "id": "h7VpzkIDAwb-"
   },
   "source": [
    "### Напишите общий вывод"
   ]
  },
  {
   "cell_type": "markdown",
   "metadata": {
    "id": "3H4lnp_KAwb-"
   },
   "source": [
    "В результате проведенного анализа данных о недвижимости удалось выявить несколько ключевых факторов, влияющих на стоимость объектов. Основные выводы можно сформулировать следующим образом:\n",
    "\n",
    "**1. Основные зависимости между характеристиками квартир и их стоимостью:**\n",
    "\n",
    "**Общая площадь квартиры** оказывает сильное влияние на её стоимость. Чем больше площадь квартиры, тем выше её цена. Эта зависимость является одной из самых значительных и прямых.\n",
    "\n",
    "Количество комнат также влияет на цену, но его влияние несколько слабее, чем у общей площади. Это связано с тем, что квартиры с одинаковым количеством комнат могут значительно различаться по площади. Важно учитывать, что в центральных районах, где стоимость квадратного метра выше, квартиры с меньшим числом комнат могут стоить дороже крупных квартир на окраинах.\n",
    "\n",
    "Этаж квартиры оказывает влияние на её стоимость. Квартиры на первом этаже в среднем дешевле, что может быть связано с меньшим спросом на такие квартиры из-за близости к улице и меньшего количества солнечного света. Квартиры на последних этажах также несколько дешевле, возможно, из-за возможных неудобств, связанных с лифтами или протечками крыш. Наиболее дорогостоящими являются квартиры, расположенные на средних этажах, что связано с их большей привлекательностью для покупателей.\n",
    "\n",
    "Удалённость от центра города также имеет заметное влияние на стоимость квартир. Анализ показал, что стоимость квадратного метра снижается по мере увеличения расстояния до центра. Особенно резкий спад цен наблюдается на расстоянии до 5-7 км от центра, что может быть связано с переходом от центральных районов к спальным и менее престижным зонам.\n",
    "\n",
    "Время продажи квартиры также является важным показателем. Среднее время продажи составляет около 180 дней, а медианное время — 95 дней. Быстрой продажей можно считать ту, которая завершилась быстрее медианного значения. Продажи, затянувшиеся дольше, чем третий квартиль (около 225 дней), можно считать долгими. Эти квартиры, возможно, имеют завышенную цену или расположены в менее привлекательных районах. Для \"нормальных\" продаж можно оставить промежуток между первым и третьим квартилем, что соответствует промежутку примерно от 45 до 225 дней.\n",
    "\n",
    "**2. Рекомендации для дальнейшего анализа:**\n",
    "\n",
    "Анализ дополнительных факторов: Следует провести более детальный анализ других факторов, таких как наличие парковки, инфраструктура района, близость к общественному транспорту, наличие ремонта и состояние квартиры, что также может значительно влиять на стоимость недвижимости.\n",
    "\n",
    "Сегментация по районам: Стоит уделить внимание детализированному анализу цен в зависимости от районов города. В разных районах могут быть свои специфические факторы, влияющие на стоимость, такие как престижность, историческая значимость, наличие зелёных зон и т.д.\n",
    "\n",
    "Динамика цен во времени: Интересным шагом будет исследование изменения цен на квартиры в зависимости от даты их размещения. Возможно, существуют сезонные колебания или долгосрочные тренды, которые могут быть полезны для прогнозирования.\n",
    "\n",
    "Психологический барьер в ценах: Стоит рассмотреть влияние психологических барьеров, таких как \"круглые\" цифры (например, 1 млн, 5 млн рублей). Эти барьеры могут влиять на скорость продажи квартиры и её конечную стоимость.\n",
    "\n",
    "\n",
    "Анализ подтвердил, что основными факторами, влияющими на стоимость недвижимости, являются её площадь, количество комнат, этаж расположения, а также расстояние до центра города. Эти результаты могут быть полезны как покупателям, так и продавцам при оценке объектов недвижимости, планировании сделок и выборе подходящих условий для покупки или продажи квартир.\n"
   ]
  },
  {
   "cell_type": "code",
   "execution_count": null,
   "metadata": {},
   "outputs": [],
   "source": []
  }
 ],
 "metadata": {
  "ExecuteTimeLog": [
   {
    "duration": 738,
    "start_time": "2024-08-13T19:44:58.289Z"
   },
   {
    "duration": 154,
    "start_time": "2024-08-13T19:49:37.564Z"
   },
   {
    "duration": 114,
    "start_time": "2024-08-13T19:49:59.986Z"
   },
   {
    "duration": 102,
    "start_time": "2024-08-13T19:53:06.258Z"
   },
   {
    "duration": 100,
    "start_time": "2024-08-13T19:53:15.704Z"
   },
   {
    "duration": 107,
    "start_time": "2024-08-13T19:53:39.171Z"
   },
   {
    "duration": 110,
    "start_time": "2024-08-13T19:54:56.195Z"
   },
   {
    "duration": 14,
    "start_time": "2024-08-13T19:56:32.837Z"
   },
   {
    "duration": 32,
    "start_time": "2024-08-13T20:02:48.876Z"
   },
   {
    "duration": 20,
    "start_time": "2024-08-13T20:02:58.556Z"
   },
   {
    "duration": 20,
    "start_time": "2024-08-13T20:03:11.950Z"
   },
   {
    "duration": 20,
    "start_time": "2024-08-13T20:06:12.860Z"
   },
   {
    "duration": 1798,
    "start_time": "2024-08-13T20:15:14.170Z"
   },
   {
    "duration": 5,
    "start_time": "2024-08-14T20:24:29.101Z"
   },
   {
    "duration": 1164,
    "start_time": "2024-08-14T20:24:39.316Z"
   },
   {
    "duration": 15,
    "start_time": "2024-08-14T20:24:44.838Z"
   },
   {
    "duration": 23,
    "start_time": "2024-08-14T20:24:48.945Z"
   },
   {
    "duration": 9,
    "start_time": "2024-08-14T20:24:53.692Z"
   },
   {
    "duration": 9,
    "start_time": "2024-08-14T20:27:20.804Z"
   },
   {
    "duration": 11,
    "start_time": "2024-08-14T20:27:51.112Z"
   },
   {
    "duration": 50,
    "start_time": "2024-08-15T19:17:41.807Z"
   },
   {
    "duration": 52,
    "start_time": "2024-08-15T19:18:16.764Z"
   },
   {
    "duration": 40,
    "start_time": "2024-08-15T19:18:26.158Z"
   },
   {
    "duration": 43,
    "start_time": "2024-08-15T19:18:49.494Z"
   },
   {
    "duration": 0,
    "start_time": "2024-08-15T19:19:19.782Z"
   },
   {
    "duration": 1103,
    "start_time": "2024-08-15T19:19:20.479Z"
   },
   {
    "duration": 17,
    "start_time": "2024-08-15T19:19:21.584Z"
   },
   {
    "duration": 25,
    "start_time": "2024-08-15T19:19:21.603Z"
   },
   {
    "duration": 26,
    "start_time": "2024-08-15T19:19:21.630Z"
   },
   {
    "duration": 1878,
    "start_time": "2024-08-15T19:19:21.658Z"
   },
   {
    "duration": 7,
    "start_time": "2024-08-15T19:19:23.539Z"
   },
   {
    "duration": 27,
    "start_time": "2024-08-15T19:19:23.548Z"
   },
   {
    "duration": 24,
    "start_time": "2024-08-15T19:28:04.462Z"
   },
   {
    "duration": 10,
    "start_time": "2024-08-15T19:28:16.912Z"
   },
   {
    "duration": 10,
    "start_time": "2024-08-15T19:29:15.244Z"
   },
   {
    "duration": 9,
    "start_time": "2024-08-15T19:29:38.274Z"
   },
   {
    "duration": 8,
    "start_time": "2024-08-15T19:31:26.819Z"
   },
   {
    "duration": 13,
    "start_time": "2024-08-15T19:35:43.208Z"
   },
   {
    "duration": 121,
    "start_time": "2024-08-15T19:37:02.998Z"
   },
   {
    "duration": 23,
    "start_time": "2024-08-15T19:37:07.913Z"
   },
   {
    "duration": 21,
    "start_time": "2024-08-15T19:37:12.931Z"
   },
   {
    "duration": 14,
    "start_time": "2024-08-15T19:37:15.267Z"
   },
   {
    "duration": 6,
    "start_time": "2024-08-15T19:52:14.650Z"
   },
   {
    "duration": 41,
    "start_time": "2024-08-15T19:52:58.238Z"
   },
   {
    "duration": 9,
    "start_time": "2024-08-15T19:53:19.871Z"
   },
   {
    "duration": 9,
    "start_time": "2024-08-15T19:53:40.739Z"
   },
   {
    "duration": 25,
    "start_time": "2024-08-15T19:54:22.360Z"
   },
   {
    "duration": 5,
    "start_time": "2024-08-15T19:54:50.319Z"
   },
   {
    "duration": 6,
    "start_time": "2024-08-15T20:06:15.286Z"
   },
   {
    "duration": 8,
    "start_time": "2024-08-15T20:13:15.924Z"
   },
   {
    "duration": 8,
    "start_time": "2024-08-15T20:13:18.279Z"
   },
   {
    "duration": 9,
    "start_time": "2024-08-15T20:17:51.237Z"
   },
   {
    "duration": 3,
    "start_time": "2024-08-15T20:18:26.387Z"
   },
   {
    "duration": 54,
    "start_time": "2024-08-15T20:18:26.392Z"
   },
   {
    "duration": 50,
    "start_time": "2024-08-15T20:18:37.066Z"
   },
   {
    "duration": 47,
    "start_time": "2024-08-15T20:18:45.763Z"
   },
   {
    "duration": 6,
    "start_time": "2024-08-15T20:19:10.125Z"
   },
   {
    "duration": 47,
    "start_time": "2024-08-17T09:39:54.617Z"
   },
   {
    "duration": 1151,
    "start_time": "2024-08-17T09:40:14.623Z"
   },
   {
    "duration": 15,
    "start_time": "2024-08-17T09:40:15.776Z"
   },
   {
    "duration": 32,
    "start_time": "2024-08-17T09:40:15.792Z"
   },
   {
    "duration": 9,
    "start_time": "2024-08-17T09:40:15.826Z"
   },
   {
    "duration": 1912,
    "start_time": "2024-08-17T09:40:15.837Z"
   },
   {
    "duration": 6,
    "start_time": "2024-08-17T09:40:17.750Z"
   },
   {
    "duration": 14,
    "start_time": "2024-08-17T09:40:17.758Z"
   },
   {
    "duration": 4,
    "start_time": "2024-08-17T09:40:17.773Z"
   },
   {
    "duration": 9,
    "start_time": "2024-08-17T09:40:17.778Z"
   },
   {
    "duration": 3,
    "start_time": "2024-08-17T09:40:17.789Z"
   },
   {
    "duration": 5,
    "start_time": "2024-08-17T09:40:17.796Z"
   },
   {
    "duration": 11,
    "start_time": "2024-08-17T09:40:19.749Z"
   },
   {
    "duration": 14,
    "start_time": "2024-08-17T09:42:08.428Z"
   },
   {
    "duration": 3,
    "start_time": "2024-08-17T09:48:11.322Z"
   },
   {
    "duration": 69,
    "start_time": "2024-08-17T09:56:30.637Z"
   },
   {
    "duration": 10,
    "start_time": "2024-08-17T09:56:55.994Z"
   },
   {
    "duration": 6,
    "start_time": "2024-08-17T09:57:13.354Z"
   },
   {
    "duration": 4,
    "start_time": "2024-08-17T09:57:37.399Z"
   },
   {
    "duration": 6,
    "start_time": "2024-08-17T09:57:50.671Z"
   },
   {
    "duration": 6,
    "start_time": "2024-08-17T09:58:41.657Z"
   },
   {
    "duration": 9,
    "start_time": "2024-08-17T10:00:50.394Z"
   },
   {
    "duration": 5,
    "start_time": "2024-08-17T10:00:59.673Z"
   },
   {
    "duration": 4,
    "start_time": "2024-08-17T10:02:31.250Z"
   },
   {
    "duration": 6,
    "start_time": "2024-08-17T10:05:11.185Z"
   },
   {
    "duration": 6,
    "start_time": "2024-08-17T10:05:29.616Z"
   },
   {
    "duration": 4,
    "start_time": "2024-08-17T10:06:20.438Z"
   },
   {
    "duration": 4,
    "start_time": "2024-08-17T10:06:22.555Z"
   },
   {
    "duration": 14,
    "start_time": "2024-08-17T10:11:17.804Z"
   },
   {
    "duration": 233,
    "start_time": "2024-08-17T10:11:33.935Z"
   },
   {
    "duration": 235,
    "start_time": "2024-08-17T10:12:03.317Z"
   },
   {
    "duration": 47,
    "start_time": "2024-08-17T10:12:12.562Z"
   },
   {
    "duration": 51,
    "start_time": "2024-08-17T10:12:29.718Z"
   },
   {
    "duration": 46,
    "start_time": "2024-08-17T10:12:38.669Z"
   },
   {
    "duration": 45,
    "start_time": "2024-08-17T10:12:44.593Z"
   },
   {
    "duration": 3,
    "start_time": "2024-08-17T10:12:47.138Z"
   },
   {
    "duration": 55,
    "start_time": "2024-08-17T10:12:49.427Z"
   },
   {
    "duration": 309,
    "start_time": "2024-08-17T10:12:55.305Z"
   },
   {
    "duration": 223,
    "start_time": "2024-08-17T10:15:04.681Z"
   },
   {
    "duration": 250,
    "start_time": "2024-08-17T10:24:05.100Z"
   },
   {
    "duration": 9,
    "start_time": "2024-08-17T10:25:05.208Z"
   },
   {
    "duration": 45,
    "start_time": "2024-08-17T10:25:38.824Z"
   },
   {
    "duration": 46,
    "start_time": "2024-08-17T10:25:49.581Z"
   },
   {
    "duration": 681,
    "start_time": "2024-08-17T10:25:49.858Z"
   },
   {
    "duration": 14,
    "start_time": "2024-08-17T10:25:50.541Z"
   },
   {
    "duration": 25,
    "start_time": "2024-08-17T10:25:52.021Z"
   },
   {
    "duration": 9,
    "start_time": "2024-08-17T10:25:52.048Z"
   },
   {
    "duration": 1887,
    "start_time": "2024-08-17T10:25:52.058Z"
   },
   {
    "duration": 7,
    "start_time": "2024-08-17T10:25:53.946Z"
   },
   {
    "duration": 9,
    "start_time": "2024-08-17T10:25:53.954Z"
   },
   {
    "duration": 4,
    "start_time": "2024-08-17T10:25:53.964Z"
   },
   {
    "duration": 17,
    "start_time": "2024-08-17T10:25:53.970Z"
   },
   {
    "duration": 27,
    "start_time": "2024-08-17T10:25:53.988Z"
   },
   {
    "duration": 11,
    "start_time": "2024-08-17T10:25:54.016Z"
   },
   {
    "duration": 31,
    "start_time": "2024-08-17T10:25:54.028Z"
   },
   {
    "duration": 14,
    "start_time": "2024-08-17T10:25:54.061Z"
   },
   {
    "duration": 25,
    "start_time": "2024-08-17T10:25:54.076Z"
   },
   {
    "duration": 40,
    "start_time": "2024-08-17T10:25:54.102Z"
   },
   {
    "duration": 8,
    "start_time": "2024-08-17T10:25:54.749Z"
   },
   {
    "duration": 132,
    "start_time": "2024-08-17T10:31:48.365Z"
   },
   {
    "duration": 16,
    "start_time": "2024-08-17T10:32:06.866Z"
   },
   {
    "duration": 43,
    "start_time": "2024-08-17T10:32:21.932Z"
   },
   {
    "duration": 57,
    "start_time": "2024-08-17T10:32:39.281Z"
   },
   {
    "duration": 44,
    "start_time": "2024-08-17T10:33:11.201Z"
   },
   {
    "duration": 45,
    "start_time": "2024-08-17T10:33:16.263Z"
   },
   {
    "duration": 20,
    "start_time": "2024-08-17T10:33:33.173Z"
   },
   {
    "duration": 21,
    "start_time": "2024-08-17T10:34:07.631Z"
   },
   {
    "duration": 20,
    "start_time": "2024-08-17T10:34:21.886Z"
   },
   {
    "duration": 20,
    "start_time": "2024-08-17T10:34:37.539Z"
   },
   {
    "duration": 20,
    "start_time": "2024-08-17T10:35:48.954Z"
   },
   {
    "duration": 20,
    "start_time": "2024-08-17T10:36:12.443Z"
   },
   {
    "duration": 22,
    "start_time": "2024-08-17T10:36:35.676Z"
   },
   {
    "duration": 21,
    "start_time": "2024-08-17T10:36:44.217Z"
   },
   {
    "duration": 163,
    "start_time": "2024-08-17T10:37:02.935Z"
   },
   {
    "duration": 191,
    "start_time": "2024-08-17T10:37:31.962Z"
   },
   {
    "duration": 211,
    "start_time": "2024-08-17T10:38:11.956Z"
   },
   {
    "duration": 236,
    "start_time": "2024-08-17T10:39:24.736Z"
   },
   {
    "duration": 44,
    "start_time": "2024-08-17T10:39:42.887Z"
   },
   {
    "duration": 235,
    "start_time": "2024-08-17T10:39:56.798Z"
   },
   {
    "duration": 215,
    "start_time": "2024-08-17T10:42:20.942Z"
   },
   {
    "duration": 226,
    "start_time": "2024-08-17T10:42:32.139Z"
   },
   {
    "duration": 223,
    "start_time": "2024-08-17T10:42:45.995Z"
   },
   {
    "duration": 210,
    "start_time": "2024-08-17T10:45:36.706Z"
   },
   {
    "duration": 4,
    "start_time": "2024-08-17T10:51:50.750Z"
   },
   {
    "duration": 244,
    "start_time": "2024-08-17T11:27:15.973Z"
   },
   {
    "duration": 4,
    "start_time": "2024-08-17T11:38:38.347Z"
   },
   {
    "duration": 51,
    "start_time": "2024-08-17T11:39:03.629Z"
   },
   {
    "duration": 699,
    "start_time": "2024-08-17T11:39:48.112Z"
   },
   {
    "duration": 6,
    "start_time": "2024-08-17T11:40:24.253Z"
   },
   {
    "duration": 12,
    "start_time": "2024-08-17T11:41:32.075Z"
   },
   {
    "duration": 13,
    "start_time": "2024-08-17T11:41:35.190Z"
   },
   {
    "duration": 21,
    "start_time": "2024-08-17T11:45:00.388Z"
   },
   {
    "duration": 14,
    "start_time": "2024-08-17T11:45:04.931Z"
   },
   {
    "duration": 343,
    "start_time": "2024-08-17T11:46:13.841Z"
   },
   {
    "duration": 338,
    "start_time": "2024-08-17T11:46:18.087Z"
   },
   {
    "duration": 407,
    "start_time": "2024-08-17T11:46:50.392Z"
   },
   {
    "duration": 22,
    "start_time": "2024-08-17T11:49:16.247Z"
   },
   {
    "duration": 4,
    "start_time": "2024-08-17T11:50:04.123Z"
   },
   {
    "duration": 4,
    "start_time": "2024-08-17T11:50:47.326Z"
   },
   {
    "duration": 22,
    "start_time": "2024-08-17T11:50:54.314Z"
   },
   {
    "duration": 51,
    "start_time": "2024-08-17T12:12:50.078Z"
   },
   {
    "duration": 47,
    "start_time": "2024-08-17T12:13:03.613Z"
   },
   {
    "duration": 8,
    "start_time": "2024-08-17T12:13:19.122Z"
   },
   {
    "duration": 233,
    "start_time": "2024-08-17T12:14:24.503Z"
   },
   {
    "duration": 237,
    "start_time": "2024-08-17T12:14:52.159Z"
   },
   {
    "duration": 243,
    "start_time": "2024-08-17T12:15:04.047Z"
   },
   {
    "duration": 236,
    "start_time": "2024-08-17T12:15:16.831Z"
   },
   {
    "duration": 313,
    "start_time": "2024-08-17T12:17:16.275Z"
   },
   {
    "duration": 240,
    "start_time": "2024-08-17T12:17:25.020Z"
   },
   {
    "duration": 244,
    "start_time": "2024-08-17T12:17:33.158Z"
   },
   {
    "duration": 277,
    "start_time": "2024-08-17T12:17:55.384Z"
   },
   {
    "duration": 56,
    "start_time": "2024-08-17T16:31:40.599Z"
   },
   {
    "duration": 1205,
    "start_time": "2024-08-17T16:31:52.217Z"
   },
   {
    "duration": 19,
    "start_time": "2024-08-17T16:31:53.424Z"
   },
   {
    "duration": 28,
    "start_time": "2024-08-17T16:31:53.445Z"
   },
   {
    "duration": 28,
    "start_time": "2024-08-17T16:31:53.475Z"
   },
   {
    "duration": 2078,
    "start_time": "2024-08-17T16:31:53.506Z"
   },
   {
    "duration": 6,
    "start_time": "2024-08-17T16:31:55.586Z"
   },
   {
    "duration": 7,
    "start_time": "2024-08-17T16:31:55.594Z"
   },
   {
    "duration": 5,
    "start_time": "2024-08-17T16:31:55.602Z"
   },
   {
    "duration": 9,
    "start_time": "2024-08-17T16:31:55.609Z"
   },
   {
    "duration": 3,
    "start_time": "2024-08-17T16:31:55.619Z"
   },
   {
    "duration": 6,
    "start_time": "2024-08-17T16:31:55.624Z"
   },
   {
    "duration": 11,
    "start_time": "2024-08-17T16:31:55.631Z"
   },
   {
    "duration": 126,
    "start_time": "2024-08-17T16:31:55.644Z"
   },
   {
    "duration": 5,
    "start_time": "2024-08-17T16:31:55.773Z"
   },
   {
    "duration": 15,
    "start_time": "2024-08-17T16:31:55.779Z"
   },
   {
    "duration": 248,
    "start_time": "2024-08-17T16:31:55.795Z"
   },
   {
    "duration": 7,
    "start_time": "2024-08-17T16:31:56.045Z"
   },
   {
    "duration": 31,
    "start_time": "2024-08-17T16:31:56.053Z"
   },
   {
    "duration": 347,
    "start_time": "2024-08-17T16:31:56.086Z"
   },
   {
    "duration": 4,
    "start_time": "2024-08-17T16:31:56.435Z"
   },
   {
    "duration": 32,
    "start_time": "2024-08-17T16:31:56.440Z"
   },
   {
    "duration": 261,
    "start_time": "2024-08-17T16:31:56.473Z"
   },
   {
    "duration": 9,
    "start_time": "2024-08-17T16:32:01.881Z"
   },
   {
    "duration": 833,
    "start_time": "2024-08-17T16:34:33.297Z"
   },
   {
    "duration": 402,
    "start_time": "2024-08-17T16:35:20.763Z"
   },
   {
    "duration": 270,
    "start_time": "2024-08-17T16:35:52.735Z"
   },
   {
    "duration": 245,
    "start_time": "2024-08-17T16:36:05.090Z"
   },
   {
    "duration": 245,
    "start_time": "2024-08-17T16:36:15.159Z"
   },
   {
    "duration": 244,
    "start_time": "2024-08-17T16:36:21.397Z"
   },
   {
    "duration": 267,
    "start_time": "2024-08-17T16:36:33.701Z"
   },
   {
    "duration": 384,
    "start_time": "2024-08-17T16:36:49.374Z"
   },
   {
    "duration": 286,
    "start_time": "2024-08-17T16:37:31.817Z"
   },
   {
    "duration": 263,
    "start_time": "2024-08-17T16:37:56.655Z"
   },
   {
    "duration": 259,
    "start_time": "2024-08-17T16:38:07.463Z"
   },
   {
    "duration": 253,
    "start_time": "2024-08-17T16:39:27.853Z"
   },
   {
    "duration": 357,
    "start_time": "2024-08-17T16:41:59.538Z"
   },
   {
    "duration": 336,
    "start_time": "2024-08-17T16:42:18.301Z"
   },
   {
    "duration": 308,
    "start_time": "2024-08-17T16:42:37.049Z"
   },
   {
    "duration": 279,
    "start_time": "2024-08-17T16:44:06.975Z"
   },
   {
    "duration": 247,
    "start_time": "2024-08-17T16:44:23.122Z"
   },
   {
    "duration": 373,
    "start_time": "2024-08-17T16:45:14.048Z"
   },
   {
    "duration": 261,
    "start_time": "2024-08-17T16:45:31.602Z"
   },
   {
    "duration": 290,
    "start_time": "2024-08-17T16:45:40.782Z"
   },
   {
    "duration": 267,
    "start_time": "2024-08-17T16:46:16.512Z"
   },
   {
    "duration": 297,
    "start_time": "2024-08-17T16:46:33.470Z"
   },
   {
    "duration": 374,
    "start_time": "2024-08-17T16:46:52.255Z"
   },
   {
    "duration": 7,
    "start_time": "2024-08-17T16:48:19.504Z"
   },
   {
    "duration": 167,
    "start_time": "2024-08-17T16:48:50.639Z"
   },
   {
    "duration": 7,
    "start_time": "2024-08-17T16:50:35.453Z"
   },
   {
    "duration": 203,
    "start_time": "2024-08-17T16:52:14.975Z"
   },
   {
    "duration": 177,
    "start_time": "2024-08-17T16:52:29.633Z"
   },
   {
    "duration": 216,
    "start_time": "2024-08-17T16:52:42.115Z"
   },
   {
    "duration": 197,
    "start_time": "2024-08-17T16:53:29.717Z"
   },
   {
    "duration": 164,
    "start_time": "2024-08-17T16:53:43.288Z"
   },
   {
    "duration": 191,
    "start_time": "2024-08-17T16:53:54.210Z"
   },
   {
    "duration": 16,
    "start_time": "2024-08-17T16:58:26.510Z"
   },
   {
    "duration": 166,
    "start_time": "2024-08-17T16:59:37.608Z"
   },
   {
    "duration": 289,
    "start_time": "2024-08-17T17:01:23.422Z"
   },
   {
    "duration": 243,
    "start_time": "2024-08-17T17:02:43.653Z"
   },
   {
    "duration": 126,
    "start_time": "2024-08-17T17:04:05.518Z"
   },
   {
    "duration": 135,
    "start_time": "2024-08-17T17:04:16.068Z"
   },
   {
    "duration": 257,
    "start_time": "2024-08-17T17:04:45.097Z"
   },
   {
    "duration": 268,
    "start_time": "2024-08-17T17:06:57.101Z"
   },
   {
    "duration": 299,
    "start_time": "2024-08-17T17:07:14.074Z"
   },
   {
    "duration": 270,
    "start_time": "2024-08-17T17:07:52.226Z"
   },
   {
    "duration": 393,
    "start_time": "2024-08-17T17:11:05.907Z"
   },
   {
    "duration": 286,
    "start_time": "2024-08-17T17:11:26.805Z"
   },
   {
    "duration": 250,
    "start_time": "2024-08-17T17:12:53.620Z"
   },
   {
    "duration": 285,
    "start_time": "2024-08-17T17:13:12.741Z"
   },
   {
    "duration": 253,
    "start_time": "2024-08-17T17:13:23.721Z"
   },
   {
    "duration": 136,
    "start_time": "2024-08-17T17:14:50.823Z"
   },
   {
    "duration": 358,
    "start_time": "2024-08-17T17:15:12.731Z"
   },
   {
    "duration": 266,
    "start_time": "2024-08-17T17:15:29.919Z"
   },
   {
    "duration": 265,
    "start_time": "2024-08-17T17:16:15.457Z"
   },
   {
    "duration": 276,
    "start_time": "2024-08-17T17:18:32.918Z"
   },
   {
    "duration": 308,
    "start_time": "2024-08-17T17:29:25.110Z"
   },
   {
    "duration": 358,
    "start_time": "2024-08-17T17:32:08.969Z"
   },
   {
    "duration": 283,
    "start_time": "2024-08-17T17:36:56.855Z"
   },
   {
    "duration": 269,
    "start_time": "2024-08-17T17:37:12.093Z"
   },
   {
    "duration": 255,
    "start_time": "2024-08-17T17:37:31.195Z"
   },
   {
    "duration": 278,
    "start_time": "2024-08-17T17:46:14.296Z"
   },
   {
    "duration": 274,
    "start_time": "2024-08-17T17:48:44.210Z"
   },
   {
    "duration": 339,
    "start_time": "2024-08-17T17:48:58.026Z"
   },
   {
    "duration": 247,
    "start_time": "2024-08-17T17:51:37.961Z"
   },
   {
    "duration": 251,
    "start_time": "2024-08-17T17:51:45.616Z"
   },
   {
    "duration": 53,
    "start_time": "2024-08-17T18:27:27.665Z"
   },
   {
    "duration": 50,
    "start_time": "2024-08-17T18:28:06.144Z"
   },
   {
    "duration": 3,
    "start_time": "2024-08-17T18:28:13.229Z"
   },
   {
    "duration": 19,
    "start_time": "2024-08-17T18:29:35.188Z"
   },
   {
    "duration": 131,
    "start_time": "2024-08-17T18:29:43.033Z"
   },
   {
    "duration": 204,
    "start_time": "2024-08-17T18:33:01.656Z"
   },
   {
    "duration": 197,
    "start_time": "2024-08-17T18:34:33.594Z"
   },
   {
    "duration": 197,
    "start_time": "2024-08-17T18:34:44.897Z"
   },
   {
    "duration": 279,
    "start_time": "2024-08-17T18:35:17.596Z"
   },
   {
    "duration": 224,
    "start_time": "2024-08-17T18:37:29.936Z"
   },
   {
    "duration": 201,
    "start_time": "2024-08-17T18:38:21.023Z"
   },
   {
    "duration": 205,
    "start_time": "2024-08-17T18:38:37.419Z"
   },
   {
    "duration": 215,
    "start_time": "2024-08-17T18:38:49.523Z"
   },
   {
    "duration": 315,
    "start_time": "2024-08-17T18:40:09.615Z"
   },
   {
    "duration": 327,
    "start_time": "2024-08-17T18:50:38.622Z"
   },
   {
    "duration": 311,
    "start_time": "2024-08-17T18:51:42.270Z"
   },
   {
    "duration": 398,
    "start_time": "2024-08-17T18:51:52.499Z"
   },
   {
    "duration": 312,
    "start_time": "2024-08-17T18:52:44.166Z"
   },
   {
    "duration": 119,
    "start_time": "2024-08-17T18:54:39.325Z"
   },
   {
    "duration": 785,
    "start_time": "2024-08-17T18:55:55.452Z"
   },
   {
    "duration": 15,
    "start_time": "2024-08-17T18:55:56.240Z"
   },
   {
    "duration": 60,
    "start_time": "2024-08-17T18:55:56.256Z"
   },
   {
    "duration": 11,
    "start_time": "2024-08-17T18:55:56.318Z"
   },
   {
    "duration": 1975,
    "start_time": "2024-08-17T18:55:56.330Z"
   },
   {
    "duration": 6,
    "start_time": "2024-08-17T18:55:58.306Z"
   },
   {
    "duration": 25,
    "start_time": "2024-08-17T18:55:58.314Z"
   },
   {
    "duration": 8,
    "start_time": "2024-08-17T18:55:58.340Z"
   },
   {
    "duration": 10,
    "start_time": "2024-08-17T18:55:58.349Z"
   },
   {
    "duration": 3,
    "start_time": "2024-08-17T18:55:58.362Z"
   },
   {
    "duration": 9,
    "start_time": "2024-08-17T18:55:58.366Z"
   },
   {
    "duration": 25,
    "start_time": "2024-08-17T18:55:58.377Z"
   },
   {
    "duration": 26,
    "start_time": "2024-08-17T18:55:58.405Z"
   },
   {
    "duration": 11,
    "start_time": "2024-08-17T18:55:58.434Z"
   },
   {
    "duration": 6,
    "start_time": "2024-08-17T18:55:58.448Z"
   },
   {
    "duration": 253,
    "start_time": "2024-08-17T18:55:58.455Z"
   },
   {
    "duration": 7,
    "start_time": "2024-08-17T18:55:58.710Z"
   },
   {
    "duration": 16,
    "start_time": "2024-08-17T18:55:58.718Z"
   },
   {
    "duration": 360,
    "start_time": "2024-08-17T18:55:58.735Z"
   },
   {
    "duration": 4,
    "start_time": "2024-08-17T18:55:59.096Z"
   },
   {
    "duration": 45,
    "start_time": "2024-08-17T18:55:59.102Z"
   },
   {
    "duration": 275,
    "start_time": "2024-08-17T18:55:59.149Z"
   },
   {
    "duration": 349,
    "start_time": "2024-08-17T18:55:59.426Z"
   },
   {
    "duration": 269,
    "start_time": "2024-08-17T18:55:59.777Z"
   },
   {
    "duration": 271,
    "start_time": "2024-08-17T18:56:00.048Z"
   },
   {
    "duration": 163,
    "start_time": "2024-08-17T18:56:00.321Z"
   },
   {
    "duration": 181,
    "start_time": "2024-08-17T18:56:00.485Z"
   },
   {
    "duration": 161,
    "start_time": "2024-08-17T18:56:00.670Z"
   },
   {
    "duration": 272,
    "start_time": "2024-08-17T18:56:00.833Z"
   },
   {
    "duration": 380,
    "start_time": "2024-08-17T18:56:01.106Z"
   },
   {
    "duration": 272,
    "start_time": "2024-08-17T18:56:01.488Z"
   },
   {
    "duration": 279,
    "start_time": "2024-08-17T18:56:01.761Z"
   },
   {
    "duration": 222,
    "start_time": "2024-08-17T18:56:02.041Z"
   },
   {
    "duration": 252,
    "start_time": "2024-08-17T18:56:02.264Z"
   },
   {
    "duration": 238,
    "start_time": "2024-08-17T18:56:02.518Z"
   },
   {
    "duration": 328,
    "start_time": "2024-08-17T18:56:02.758Z"
   },
   {
    "duration": 121,
    "start_time": "2024-08-17T18:56:11.037Z"
   },
   {
    "duration": 520,
    "start_time": "2024-08-17T18:58:54.595Z"
   },
   {
    "duration": 503,
    "start_time": "2024-08-17T18:59:14.597Z"
   },
   {
    "duration": 114,
    "start_time": "2024-08-17T18:59:26.913Z"
   },
   {
    "duration": 207,
    "start_time": "2024-08-17T18:59:38.096Z"
   },
   {
    "duration": 123,
    "start_time": "2024-08-17T19:00:03.987Z"
   },
   {
    "duration": 135,
    "start_time": "2024-08-17T19:00:17.380Z"
   },
   {
    "duration": 38,
    "start_time": "2024-08-17T19:00:39.196Z"
   },
   {
    "duration": 118,
    "start_time": "2024-08-17T19:00:46.314Z"
   },
   {
    "duration": 117,
    "start_time": "2024-08-17T19:04:40.390Z"
   },
   {
    "duration": 19,
    "start_time": "2024-08-17T19:05:23.695Z"
   },
   {
    "duration": 17,
    "start_time": "2024-08-17T19:13:53.819Z"
   },
   {
    "duration": 21,
    "start_time": "2024-08-17T19:14:12.626Z"
   },
   {
    "duration": 755,
    "start_time": "2024-08-17T19:14:58.622Z"
   },
   {
    "duration": 15,
    "start_time": "2024-08-17T19:14:59.378Z"
   },
   {
    "duration": 24,
    "start_time": "2024-08-17T19:14:59.394Z"
   },
   {
    "duration": 10,
    "start_time": "2024-08-17T19:14:59.419Z"
   },
   {
    "duration": 247,
    "start_time": "2024-08-17T19:15:25.140Z"
   },
   {
    "duration": 183,
    "start_time": "2024-08-17T19:15:49.182Z"
   },
   {
    "duration": 210,
    "start_time": "2024-08-17T19:16:12.684Z"
   },
   {
    "duration": 325,
    "start_time": "2024-08-17T19:16:27.948Z"
   },
   {
    "duration": 153,
    "start_time": "2024-08-17T19:17:00.419Z"
   },
   {
    "duration": 26,
    "start_time": "2024-08-17T19:18:19.228Z"
   },
   {
    "duration": 20,
    "start_time": "2024-08-17T19:18:37.960Z"
   },
   {
    "duration": 313,
    "start_time": "2024-08-17T19:19:53.318Z"
   },
   {
    "duration": 140,
    "start_time": "2024-08-17T19:20:14.579Z"
   },
   {
    "duration": 50,
    "start_time": "2024-08-17T19:20:38.152Z"
   },
   {
    "duration": 233,
    "start_time": "2024-08-17T19:21:25.101Z"
   },
   {
    "duration": 175,
    "start_time": "2024-08-17T19:21:59.776Z"
   },
   {
    "duration": 118,
    "start_time": "2024-08-17T19:22:30.307Z"
   },
   {
    "duration": 126,
    "start_time": "2024-08-17T19:22:42.205Z"
   },
   {
    "duration": 121,
    "start_time": "2024-08-17T19:22:55.356Z"
   },
   {
    "duration": 166,
    "start_time": "2024-08-17T19:23:06.567Z"
   },
   {
    "duration": 336,
    "start_time": "2024-08-17T19:23:32.311Z"
   },
   {
    "duration": 21,
    "start_time": "2024-08-17T19:24:37.694Z"
   },
   {
    "duration": 18,
    "start_time": "2024-08-17T19:24:45.341Z"
   },
   {
    "duration": 792,
    "start_time": "2024-08-17T19:25:06.354Z"
   },
   {
    "duration": 17,
    "start_time": "2024-08-17T19:25:07.148Z"
   },
   {
    "duration": 37,
    "start_time": "2024-08-17T19:25:07.166Z"
   },
   {
    "duration": 9,
    "start_time": "2024-08-17T19:25:07.205Z"
   },
   {
    "duration": 2017,
    "start_time": "2024-08-17T19:25:07.216Z"
   },
   {
    "duration": 6,
    "start_time": "2024-08-17T19:25:09.234Z"
   },
   {
    "duration": 16,
    "start_time": "2024-08-17T19:25:09.242Z"
   },
   {
    "duration": 5,
    "start_time": "2024-08-17T19:25:09.260Z"
   },
   {
    "duration": 9,
    "start_time": "2024-08-17T19:25:09.266Z"
   },
   {
    "duration": 3,
    "start_time": "2024-08-17T19:25:09.277Z"
   },
   {
    "duration": 5,
    "start_time": "2024-08-17T19:25:09.282Z"
   },
   {
    "duration": 12,
    "start_time": "2024-08-17T19:25:09.289Z"
   },
   {
    "duration": 8,
    "start_time": "2024-08-17T19:25:09.303Z"
   },
   {
    "duration": 8,
    "start_time": "2024-08-17T19:25:09.314Z"
   },
   {
    "duration": 10,
    "start_time": "2024-08-17T19:25:09.323Z"
   },
   {
    "duration": 249,
    "start_time": "2024-08-17T19:25:09.335Z"
   },
   {
    "duration": 7,
    "start_time": "2024-08-17T19:25:09.586Z"
   },
   {
    "duration": 16,
    "start_time": "2024-08-17T19:25:09.594Z"
   },
   {
    "duration": 349,
    "start_time": "2024-08-17T19:25:09.612Z"
   },
   {
    "duration": 4,
    "start_time": "2024-08-17T19:25:09.963Z"
   },
   {
    "duration": 35,
    "start_time": "2024-08-17T19:25:09.968Z"
   },
   {
    "duration": 265,
    "start_time": "2024-08-17T19:25:10.004Z"
   },
   {
    "duration": 353,
    "start_time": "2024-08-17T19:25:10.270Z"
   },
   {
    "duration": 259,
    "start_time": "2024-08-17T19:25:10.625Z"
   },
   {
    "duration": 269,
    "start_time": "2024-08-17T19:25:10.886Z"
   },
   {
    "duration": 155,
    "start_time": "2024-08-17T19:25:11.157Z"
   },
   {
    "duration": 180,
    "start_time": "2024-08-17T19:25:11.313Z"
   },
   {
    "duration": 160,
    "start_time": "2024-08-17T19:25:11.494Z"
   },
   {
    "duration": 258,
    "start_time": "2024-08-17T19:25:11.656Z"
   },
   {
    "duration": 370,
    "start_time": "2024-08-17T19:25:11.916Z"
   },
   {
    "duration": 254,
    "start_time": "2024-08-17T19:25:12.288Z"
   },
   {
    "duration": 267,
    "start_time": "2024-08-17T19:25:12.544Z"
   },
   {
    "duration": 211,
    "start_time": "2024-08-17T19:25:12.813Z"
   },
   {
    "duration": 232,
    "start_time": "2024-08-17T19:25:13.025Z"
   },
   {
    "duration": 210,
    "start_time": "2024-08-17T19:25:13.259Z"
   },
   {
    "duration": 322,
    "start_time": "2024-08-17T19:25:13.470Z"
   },
   {
    "duration": 229,
    "start_time": "2024-08-17T19:25:13.950Z"
   },
   {
    "duration": 145,
    "start_time": "2024-08-17T19:26:13.333Z"
   },
   {
    "duration": 80,
    "start_time": "2024-08-17T19:28:05.438Z"
   },
   {
    "duration": 318,
    "start_time": "2024-08-17T19:29:00.692Z"
   },
   {
    "duration": 173,
    "start_time": "2024-08-17T19:29:49.111Z"
   },
   {
    "duration": 174,
    "start_time": "2024-08-17T19:30:47.515Z"
   },
   {
    "duration": 152,
    "start_time": "2024-08-17T19:31:31.535Z"
   },
   {
    "duration": 54,
    "start_time": "2024-08-17T19:36:56.793Z"
   },
   {
    "duration": 43,
    "start_time": "2024-08-17T19:44:49.771Z"
   },
   {
    "duration": 23,
    "start_time": "2024-08-17T19:47:45.396Z"
   },
   {
    "duration": 23,
    "start_time": "2024-08-17T19:48:30.134Z"
   },
   {
    "duration": 22,
    "start_time": "2024-08-17T19:48:35.398Z"
   },
   {
    "duration": 20,
    "start_time": "2024-08-17T19:51:05.674Z"
   },
   {
    "duration": 27,
    "start_time": "2024-08-17T19:51:32.353Z"
   },
   {
    "duration": 740,
    "start_time": "2024-08-17T19:52:04.131Z"
   },
   {
    "duration": 23,
    "start_time": "2024-08-17T19:52:04.873Z"
   },
   {
    "duration": 25,
    "start_time": "2024-08-17T19:52:04.898Z"
   },
   {
    "duration": 11,
    "start_time": "2024-08-17T19:52:04.925Z"
   },
   {
    "duration": 2042,
    "start_time": "2024-08-17T19:52:04.939Z"
   },
   {
    "duration": 8,
    "start_time": "2024-08-17T19:52:06.983Z"
   },
   {
    "duration": 8,
    "start_time": "2024-08-17T19:52:06.993Z"
   },
   {
    "duration": 9,
    "start_time": "2024-08-17T19:52:07.002Z"
   },
   {
    "duration": 10,
    "start_time": "2024-08-17T19:52:07.013Z"
   },
   {
    "duration": 5,
    "start_time": "2024-08-17T19:52:07.024Z"
   },
   {
    "duration": 8,
    "start_time": "2024-08-17T19:52:07.030Z"
   },
   {
    "duration": 17,
    "start_time": "2024-08-17T19:52:07.039Z"
   },
   {
    "duration": 27,
    "start_time": "2024-08-17T19:52:07.058Z"
   },
   {
    "duration": 6,
    "start_time": "2024-08-17T19:52:07.088Z"
   },
   {
    "duration": 6,
    "start_time": "2024-08-17T19:52:07.095Z"
   },
   {
    "duration": 254,
    "start_time": "2024-08-17T19:52:07.103Z"
   },
   {
    "duration": 7,
    "start_time": "2024-08-17T19:52:07.358Z"
   },
   {
    "duration": 54,
    "start_time": "2024-08-17T19:52:07.366Z"
   },
   {
    "duration": 337,
    "start_time": "2024-08-17T19:52:07.422Z"
   },
   {
    "duration": 4,
    "start_time": "2024-08-17T19:52:07.761Z"
   },
   {
    "duration": 33,
    "start_time": "2024-08-17T19:52:07.766Z"
   },
   {
    "duration": 260,
    "start_time": "2024-08-17T19:52:07.801Z"
   },
   {
    "duration": 353,
    "start_time": "2024-08-17T19:52:08.062Z"
   },
   {
    "duration": 270,
    "start_time": "2024-08-17T19:52:08.418Z"
   },
   {
    "duration": 263,
    "start_time": "2024-08-17T19:52:08.690Z"
   },
   {
    "duration": 158,
    "start_time": "2024-08-17T19:52:08.955Z"
   },
   {
    "duration": 210,
    "start_time": "2024-08-17T19:52:09.114Z"
   },
   {
    "duration": 156,
    "start_time": "2024-08-17T19:52:09.325Z"
   },
   {
    "duration": 256,
    "start_time": "2024-08-17T19:52:09.483Z"
   },
   {
    "duration": 367,
    "start_time": "2024-08-17T19:52:09.741Z"
   },
   {
    "duration": 276,
    "start_time": "2024-08-17T19:52:10.110Z"
   },
   {
    "duration": 266,
    "start_time": "2024-08-17T19:52:10.388Z"
   },
   {
    "duration": 232,
    "start_time": "2024-08-17T19:52:10.656Z"
   },
   {
    "duration": 234,
    "start_time": "2024-08-17T19:52:10.889Z"
   },
   {
    "duration": 222,
    "start_time": "2024-08-17T19:52:11.125Z"
   },
   {
    "duration": 161,
    "start_time": "2024-08-17T19:52:11.348Z"
   },
   {
    "duration": 158,
    "start_time": "2024-08-17T19:52:11.511Z"
   },
   {
    "duration": 165,
    "start_time": "2024-08-17T19:52:11.672Z"
   },
   {
    "duration": 264,
    "start_time": "2024-08-17T19:52:11.839Z"
   },
   {
    "duration": 160,
    "start_time": "2024-08-17T19:52:12.105Z"
   },
   {
    "duration": 89,
    "start_time": "2024-08-17T19:52:12.270Z"
   },
   {
    "duration": 20,
    "start_time": "2024-08-17T19:52:16.292Z"
   },
   {
    "duration": 18,
    "start_time": "2024-08-17T19:53:17.155Z"
   },
   {
    "duration": 21,
    "start_time": "2024-08-17T19:59:36.290Z"
   },
   {
    "duration": 3,
    "start_time": "2024-08-17T20:02:49.583Z"
   },
   {
    "duration": 22,
    "start_time": "2024-08-17T20:03:33.396Z"
   },
   {
    "duration": 50,
    "start_time": "2024-08-17T20:07:30.205Z"
   },
   {
    "duration": 38,
    "start_time": "2024-08-17T20:07:52.881Z"
   },
   {
    "duration": 37,
    "start_time": "2024-08-17T20:08:23.020Z"
   },
   {
    "duration": 28,
    "start_time": "2024-08-17T20:08:59.036Z"
   },
   {
    "duration": 3,
    "start_time": "2024-08-17T20:09:36.859Z"
   },
   {
    "duration": 25,
    "start_time": "2024-08-17T20:10:47.669Z"
   },
   {
    "duration": 136,
    "start_time": "2024-08-17T20:12:51.762Z"
   },
   {
    "duration": 143,
    "start_time": "2024-08-17T20:13:24.133Z"
   },
   {
    "duration": 750,
    "start_time": "2024-08-17T20:15:58.028Z"
   },
   {
    "duration": 680,
    "start_time": "2024-08-17T20:16:14.469Z"
   },
   {
    "duration": 745,
    "start_time": "2024-08-17T20:17:11.892Z"
   },
   {
    "duration": 10,
    "start_time": "2024-08-17T20:20:08.046Z"
   },
   {
    "duration": 26,
    "start_time": "2024-08-17T20:21:31.395Z"
   },
   {
    "duration": 819,
    "start_time": "2024-08-17T20:22:31.357Z"
   },
   {
    "duration": 20,
    "start_time": "2024-08-17T20:22:32.178Z"
   },
   {
    "duration": 38,
    "start_time": "2024-08-17T20:22:32.200Z"
   },
   {
    "duration": 14,
    "start_time": "2024-08-17T20:22:32.240Z"
   },
   {
    "duration": 1968,
    "start_time": "2024-08-17T20:22:32.256Z"
   },
   {
    "duration": 6,
    "start_time": "2024-08-17T20:22:34.226Z"
   },
   {
    "duration": 10,
    "start_time": "2024-08-17T20:22:34.234Z"
   },
   {
    "duration": 20,
    "start_time": "2024-08-17T20:22:34.245Z"
   },
   {
    "duration": 16,
    "start_time": "2024-08-17T20:22:34.266Z"
   },
   {
    "duration": 3,
    "start_time": "2024-08-17T20:22:34.285Z"
   },
   {
    "duration": 3,
    "start_time": "2024-08-17T20:22:34.290Z"
   },
   {
    "duration": 18,
    "start_time": "2024-08-17T20:22:34.294Z"
   },
   {
    "duration": 12,
    "start_time": "2024-08-17T20:22:34.313Z"
   },
   {
    "duration": 11,
    "start_time": "2024-08-17T20:22:34.327Z"
   },
   {
    "duration": 7,
    "start_time": "2024-08-17T20:22:34.339Z"
   },
   {
    "duration": 249,
    "start_time": "2024-08-17T20:22:34.348Z"
   },
   {
    "duration": 7,
    "start_time": "2024-08-17T20:22:34.598Z"
   },
   {
    "duration": 31,
    "start_time": "2024-08-17T20:22:34.607Z"
   },
   {
    "duration": 346,
    "start_time": "2024-08-17T20:22:34.639Z"
   },
   {
    "duration": 4,
    "start_time": "2024-08-17T20:22:34.986Z"
   },
   {
    "duration": 25,
    "start_time": "2024-08-17T20:22:34.991Z"
   },
   {
    "duration": 290,
    "start_time": "2024-08-17T20:22:35.018Z"
   },
   {
    "duration": 365,
    "start_time": "2024-08-17T20:22:35.310Z"
   },
   {
    "duration": 259,
    "start_time": "2024-08-17T20:22:35.677Z"
   },
   {
    "duration": 277,
    "start_time": "2024-08-17T20:22:35.938Z"
   },
   {
    "duration": 167,
    "start_time": "2024-08-17T20:22:36.217Z"
   },
   {
    "duration": 189,
    "start_time": "2024-08-17T20:22:36.386Z"
   },
   {
    "duration": 158,
    "start_time": "2024-08-17T20:22:36.583Z"
   },
   {
    "duration": 277,
    "start_time": "2024-08-17T20:22:36.743Z"
   },
   {
    "duration": 365,
    "start_time": "2024-08-17T20:22:37.022Z"
   },
   {
    "duration": 266,
    "start_time": "2024-08-17T20:22:37.389Z"
   },
   {
    "duration": 259,
    "start_time": "2024-08-17T20:22:37.657Z"
   },
   {
    "duration": 207,
    "start_time": "2024-08-17T20:22:37.918Z"
   },
   {
    "duration": 223,
    "start_time": "2024-08-17T20:22:38.126Z"
   },
   {
    "duration": 246,
    "start_time": "2024-08-17T20:22:38.350Z"
   },
   {
    "duration": 163,
    "start_time": "2024-08-17T20:22:38.598Z"
   },
   {
    "duration": 150,
    "start_time": "2024-08-17T20:22:38.762Z"
   },
   {
    "duration": 165,
    "start_time": "2024-08-17T20:22:38.914Z"
   },
   {
    "duration": 272,
    "start_time": "2024-08-17T20:22:39.084Z"
   },
   {
    "duration": 157,
    "start_time": "2024-08-17T20:22:39.358Z"
   },
   {
    "duration": 90,
    "start_time": "2024-08-17T20:22:39.517Z"
   },
   {
    "duration": 25,
    "start_time": "2024-08-17T20:22:57.994Z"
   },
   {
    "duration": 6,
    "start_time": "2024-08-17T20:25:10.722Z"
   },
   {
    "duration": 26,
    "start_time": "2024-08-17T20:25:28.604Z"
   },
   {
    "duration": 7,
    "start_time": "2024-08-17T20:26:35.746Z"
   },
   {
    "duration": 27,
    "start_time": "2024-08-17T20:27:01.146Z"
   },
   {
    "duration": 26,
    "start_time": "2024-08-17T20:59:42.263Z"
   },
   {
    "duration": 22,
    "start_time": "2024-08-17T20:59:53.989Z"
   },
   {
    "duration": 8415,
    "start_time": "2024-08-17T21:00:06.170Z"
   },
   {
    "duration": 16,
    "start_time": "2024-08-17T21:00:14.587Z"
   },
   {
    "duration": 50,
    "start_time": "2024-08-17T21:00:14.605Z"
   },
   {
    "duration": 10,
    "start_time": "2024-08-17T21:00:14.657Z"
   },
   {
    "duration": 2044,
    "start_time": "2024-08-17T21:00:14.669Z"
   },
   {
    "duration": 7,
    "start_time": "2024-08-17T21:00:16.714Z"
   },
   {
    "duration": 79,
    "start_time": "2024-08-17T21:00:16.722Z"
   },
   {
    "duration": 4,
    "start_time": "2024-08-17T21:00:16.802Z"
   },
   {
    "duration": 14,
    "start_time": "2024-08-17T21:00:16.808Z"
   },
   {
    "duration": 3,
    "start_time": "2024-08-17T21:00:16.825Z"
   },
   {
    "duration": 4,
    "start_time": "2024-08-17T21:00:16.829Z"
   },
   {
    "duration": 11,
    "start_time": "2024-08-17T21:00:16.835Z"
   },
   {
    "duration": 5,
    "start_time": "2024-08-17T21:00:16.848Z"
   },
   {
    "duration": 14,
    "start_time": "2024-08-17T21:00:16.854Z"
   },
   {
    "duration": 7,
    "start_time": "2024-08-17T21:00:16.870Z"
   },
   {
    "duration": 246,
    "start_time": "2024-08-17T21:00:16.883Z"
   },
   {
    "duration": 7,
    "start_time": "2024-08-17T21:00:17.130Z"
   },
   {
    "duration": 21,
    "start_time": "2024-08-17T21:00:17.138Z"
   },
   {
    "duration": 352,
    "start_time": "2024-08-17T21:00:17.161Z"
   },
   {
    "duration": 7,
    "start_time": "2024-08-17T21:00:17.515Z"
   },
   {
    "duration": 35,
    "start_time": "2024-08-17T21:00:17.524Z"
   },
   {
    "duration": 272,
    "start_time": "2024-08-17T21:00:17.561Z"
   },
   {
    "duration": 349,
    "start_time": "2024-08-17T21:00:17.835Z"
   },
   {
    "duration": 283,
    "start_time": "2024-08-17T21:00:18.186Z"
   },
   {
    "duration": 280,
    "start_time": "2024-08-17T21:00:18.470Z"
   },
   {
    "duration": 168,
    "start_time": "2024-08-17T21:00:18.751Z"
   },
   {
    "duration": 192,
    "start_time": "2024-08-17T21:00:18.920Z"
   },
   {
    "duration": 185,
    "start_time": "2024-08-17T21:00:19.116Z"
   },
   {
    "duration": 267,
    "start_time": "2024-08-17T21:00:19.304Z"
   },
   {
    "duration": 382,
    "start_time": "2024-08-17T21:00:19.573Z"
   },
   {
    "duration": 282,
    "start_time": "2024-08-17T21:00:19.957Z"
   },
   {
    "duration": 258,
    "start_time": "2024-08-17T21:00:20.241Z"
   },
   {
    "duration": 218,
    "start_time": "2024-08-17T21:00:20.501Z"
   },
   {
    "duration": 232,
    "start_time": "2024-08-17T21:00:20.720Z"
   },
   {
    "duration": 225,
    "start_time": "2024-08-17T21:00:20.954Z"
   },
   {
    "duration": 156,
    "start_time": "2024-08-17T21:00:21.184Z"
   },
   {
    "duration": 152,
    "start_time": "2024-08-17T21:00:21.342Z"
   },
   {
    "duration": 165,
    "start_time": "2024-08-17T21:00:21.496Z"
   },
   {
    "duration": 258,
    "start_time": "2024-08-17T21:00:21.663Z"
   },
   {
    "duration": 166,
    "start_time": "2024-08-17T21:00:21.923Z"
   },
   {
    "duration": 0,
    "start_time": "2024-08-17T21:00:22.187Z"
   },
   {
    "duration": 19,
    "start_time": "2024-08-17T21:00:30.310Z"
   },
   {
    "duration": 18,
    "start_time": "2024-08-17T21:01:27.528Z"
   },
   {
    "duration": 26,
    "start_time": "2024-08-17T21:01:33.207Z"
   },
   {
    "duration": 22,
    "start_time": "2024-08-17T21:03:37.765Z"
   },
   {
    "duration": 21,
    "start_time": "2024-08-17T21:04:13.857Z"
   },
   {
    "duration": 18,
    "start_time": "2024-08-17T21:04:49.096Z"
   },
   {
    "duration": 21,
    "start_time": "2024-08-17T21:05:34.662Z"
   },
   {
    "duration": 28,
    "start_time": "2024-08-17T21:05:43.875Z"
   },
   {
    "duration": 28,
    "start_time": "2024-08-17T21:08:13.598Z"
   },
   {
    "duration": 758,
    "start_time": "2024-08-17T21:09:00.356Z"
   },
   {
    "duration": 10,
    "start_time": "2024-08-17T21:09:30.668Z"
   },
   {
    "duration": 27,
    "start_time": "2024-08-17T21:10:20.116Z"
   },
   {
    "duration": 37,
    "start_time": "2024-08-17T21:11:33.657Z"
   },
   {
    "duration": 25,
    "start_time": "2024-08-17T21:14:08.246Z"
   },
   {
    "duration": 6,
    "start_time": "2024-08-17T21:15:42.643Z"
   },
   {
    "duration": 6,
    "start_time": "2024-08-17T21:15:59.268Z"
   },
   {
    "duration": 6,
    "start_time": "2024-08-17T21:16:14.626Z"
   },
   {
    "duration": 27,
    "start_time": "2024-08-17T21:16:25.726Z"
   },
   {
    "duration": 10,
    "start_time": "2024-08-17T21:18:34.830Z"
   },
   {
    "duration": 28,
    "start_time": "2024-08-17T21:18:48.096Z"
   },
   {
    "duration": 7,
    "start_time": "2024-08-17T21:19:07.973Z"
   },
   {
    "duration": 7,
    "start_time": "2024-08-17T21:19:13.951Z"
   },
   {
    "duration": 7,
    "start_time": "2024-08-17T21:20:18.717Z"
   },
   {
    "duration": 836,
    "start_time": "2024-08-17T21:20:28.966Z"
   },
   {
    "duration": 15,
    "start_time": "2024-08-17T21:20:29.804Z"
   },
   {
    "duration": 29,
    "start_time": "2024-08-17T21:20:29.820Z"
   },
   {
    "duration": 9,
    "start_time": "2024-08-17T21:20:29.851Z"
   },
   {
    "duration": 2131,
    "start_time": "2024-08-17T21:20:29.863Z"
   },
   {
    "duration": 7,
    "start_time": "2024-08-17T21:20:31.997Z"
   },
   {
    "duration": 17,
    "start_time": "2024-08-17T21:20:32.006Z"
   },
   {
    "duration": 26,
    "start_time": "2024-08-17T21:20:32.025Z"
   },
   {
    "duration": 46,
    "start_time": "2024-08-17T21:20:32.053Z"
   },
   {
    "duration": 11,
    "start_time": "2024-08-17T21:20:32.101Z"
   },
   {
    "duration": 12,
    "start_time": "2024-08-17T21:20:32.114Z"
   },
   {
    "duration": 31,
    "start_time": "2024-08-17T21:20:32.128Z"
   },
   {
    "duration": 29,
    "start_time": "2024-08-17T21:20:32.161Z"
   },
   {
    "duration": 5,
    "start_time": "2024-08-17T21:20:32.199Z"
   },
   {
    "duration": 10,
    "start_time": "2024-08-17T21:20:32.206Z"
   },
   {
    "duration": 285,
    "start_time": "2024-08-17T21:20:32.217Z"
   },
   {
    "duration": 9,
    "start_time": "2024-08-17T21:20:32.503Z"
   },
   {
    "duration": 24,
    "start_time": "2024-08-17T21:20:32.513Z"
   },
   {
    "duration": 380,
    "start_time": "2024-08-17T21:20:32.539Z"
   },
   {
    "duration": 6,
    "start_time": "2024-08-17T21:20:32.920Z"
   },
   {
    "duration": 282,
    "start_time": "2024-08-17T21:20:32.928Z"
   },
   {
    "duration": 349,
    "start_time": "2024-08-17T21:20:33.212Z"
   },
   {
    "duration": 271,
    "start_time": "2024-08-17T21:20:33.562Z"
   },
   {
    "duration": 287,
    "start_time": "2024-08-17T21:20:33.835Z"
   },
   {
    "duration": 174,
    "start_time": "2024-08-17T21:20:34.124Z"
   },
   {
    "duration": 189,
    "start_time": "2024-08-17T21:20:34.300Z"
   },
   {
    "duration": 153,
    "start_time": "2024-08-17T21:20:34.493Z"
   },
   {
    "duration": 281,
    "start_time": "2024-08-17T21:20:34.648Z"
   },
   {
    "duration": 372,
    "start_time": "2024-08-17T21:20:34.930Z"
   },
   {
    "duration": 283,
    "start_time": "2024-08-17T21:20:35.303Z"
   },
   {
    "duration": 268,
    "start_time": "2024-08-17T21:20:35.597Z"
   },
   {
    "duration": 241,
    "start_time": "2024-08-17T21:20:35.866Z"
   },
   {
    "duration": 240,
    "start_time": "2024-08-17T21:20:36.108Z"
   },
   {
    "duration": 231,
    "start_time": "2024-08-17T21:20:36.350Z"
   },
   {
    "duration": 167,
    "start_time": "2024-08-17T21:20:36.583Z"
   },
   {
    "duration": 168,
    "start_time": "2024-08-17T21:20:36.752Z"
   },
   {
    "duration": 180,
    "start_time": "2024-08-17T21:20:36.922Z"
   },
   {
    "duration": 267,
    "start_time": "2024-08-17T21:20:37.104Z"
   },
   {
    "duration": 169,
    "start_time": "2024-08-17T21:20:37.373Z"
   },
   {
    "duration": 26,
    "start_time": "2024-08-17T21:20:37.543Z"
   },
   {
    "duration": 31,
    "start_time": "2024-08-17T21:20:44.985Z"
   },
   {
    "duration": 685,
    "start_time": "2024-08-17T21:24:27.938Z"
   },
   {
    "duration": 10,
    "start_time": "2024-08-17T21:25:59.819Z"
   },
   {
    "duration": 11,
    "start_time": "2024-08-17T21:26:01.847Z"
   },
   {
    "duration": 10,
    "start_time": "2024-08-17T21:26:14.896Z"
   },
   {
    "duration": 8,
    "start_time": "2024-08-17T21:26:28.188Z"
   },
   {
    "duration": 61,
    "start_time": "2024-08-17T21:28:02.766Z"
   },
   {
    "duration": 25,
    "start_time": "2024-08-17T21:28:41.320Z"
   },
   {
    "duration": 26,
    "start_time": "2024-08-17T21:28:56.094Z"
   },
   {
    "duration": 1101,
    "start_time": "2024-08-18T09:28:19.681Z"
   },
   {
    "duration": 15,
    "start_time": "2024-08-18T09:28:20.784Z"
   },
   {
    "duration": 23,
    "start_time": "2024-08-18T09:28:20.801Z"
   },
   {
    "duration": 9,
    "start_time": "2024-08-18T09:28:20.826Z"
   },
   {
    "duration": 2015,
    "start_time": "2024-08-18T09:28:20.837Z"
   },
   {
    "duration": 6,
    "start_time": "2024-08-18T09:28:22.854Z"
   },
   {
    "duration": 6,
    "start_time": "2024-08-18T09:28:22.862Z"
   },
   {
    "duration": 5,
    "start_time": "2024-08-18T09:28:22.870Z"
   },
   {
    "duration": 16,
    "start_time": "2024-08-18T09:28:22.877Z"
   },
   {
    "duration": 3,
    "start_time": "2024-08-18T09:28:22.895Z"
   },
   {
    "duration": 12,
    "start_time": "2024-08-18T09:28:22.900Z"
   },
   {
    "duration": 15,
    "start_time": "2024-08-18T09:28:22.913Z"
   },
   {
    "duration": 23,
    "start_time": "2024-08-18T09:28:22.930Z"
   },
   {
    "duration": 7,
    "start_time": "2024-08-18T09:28:22.954Z"
   },
   {
    "duration": 6,
    "start_time": "2024-08-18T09:28:22.963Z"
   },
   {
    "duration": 266,
    "start_time": "2024-08-18T09:28:22.970Z"
   },
   {
    "duration": 16,
    "start_time": "2024-08-18T09:28:23.237Z"
   },
   {
    "duration": 31,
    "start_time": "2024-08-18T09:28:23.255Z"
   },
   {
    "duration": 332,
    "start_time": "2024-08-18T09:28:23.288Z"
   },
   {
    "duration": 7,
    "start_time": "2024-08-18T09:28:23.622Z"
   },
   {
    "duration": 275,
    "start_time": "2024-08-18T09:28:23.630Z"
   },
   {
    "duration": 384,
    "start_time": "2024-08-18T09:28:23.906Z"
   },
   {
    "duration": 264,
    "start_time": "2024-08-18T09:28:24.292Z"
   },
   {
    "duration": 261,
    "start_time": "2024-08-18T09:28:24.558Z"
   },
   {
    "duration": 166,
    "start_time": "2024-08-18T09:28:24.821Z"
   },
   {
    "duration": 187,
    "start_time": "2024-08-18T09:28:24.988Z"
   },
   {
    "duration": 160,
    "start_time": "2024-08-18T09:28:25.177Z"
   },
   {
    "duration": 248,
    "start_time": "2024-08-18T09:28:25.341Z"
   },
   {
    "duration": 364,
    "start_time": "2024-08-18T09:28:25.590Z"
   },
   {
    "duration": 265,
    "start_time": "2024-08-18T09:28:25.955Z"
   },
   {
    "duration": 257,
    "start_time": "2024-08-18T09:28:26.222Z"
   },
   {
    "duration": 219,
    "start_time": "2024-08-18T09:28:26.481Z"
   },
   {
    "duration": 227,
    "start_time": "2024-08-18T09:28:26.701Z"
   },
   {
    "duration": 229,
    "start_time": "2024-08-18T09:28:26.929Z"
   },
   {
    "duration": 179,
    "start_time": "2024-08-18T09:28:27.160Z"
   },
   {
    "duration": 176,
    "start_time": "2024-08-18T09:28:27.341Z"
   },
   {
    "duration": 166,
    "start_time": "2024-08-18T09:28:27.519Z"
   },
   {
    "duration": 242,
    "start_time": "2024-08-18T09:28:27.687Z"
   },
   {
    "duration": 155,
    "start_time": "2024-08-18T09:28:27.931Z"
   },
   {
    "duration": 26,
    "start_time": "2024-08-18T09:28:28.088Z"
   },
   {
    "duration": 114,
    "start_time": "2024-08-18T09:28:28.116Z"
   },
   {
    "duration": 10,
    "start_time": "2024-08-18T09:45:07.506Z"
   },
   {
    "duration": 25,
    "start_time": "2024-08-18T09:56:56.724Z"
   },
   {
    "duration": 23,
    "start_time": "2024-08-18T10:08:29.336Z"
   },
   {
    "duration": 23,
    "start_time": "2024-08-18T10:09:11.153Z"
   },
   {
    "duration": 16,
    "start_time": "2024-08-18T10:09:29.474Z"
   },
   {
    "duration": 23,
    "start_time": "2024-08-18T10:09:39.614Z"
   },
   {
    "duration": 9,
    "start_time": "2024-08-18T10:10:24.147Z"
   },
   {
    "duration": 10,
    "start_time": "2024-08-18T10:10:34.327Z"
   },
   {
    "duration": 9,
    "start_time": "2024-08-18T10:12:20.778Z"
   },
   {
    "duration": 5,
    "start_time": "2024-08-18T10:12:28.813Z"
   },
   {
    "duration": 7,
    "start_time": "2024-08-18T10:12:41.511Z"
   },
   {
    "duration": 23,
    "start_time": "2024-08-18T10:13:19.427Z"
   },
   {
    "duration": 24,
    "start_time": "2024-08-18T10:13:45.009Z"
   },
   {
    "duration": 24,
    "start_time": "2024-08-18T10:19:20.415Z"
   },
   {
    "duration": 23,
    "start_time": "2024-08-18T10:19:34.219Z"
   },
   {
    "duration": 9,
    "start_time": "2024-08-18T10:19:40.302Z"
   },
   {
    "duration": 9,
    "start_time": "2024-08-18T10:19:52.705Z"
   },
   {
    "duration": 9,
    "start_time": "2024-08-18T10:20:17.790Z"
   },
   {
    "duration": 24,
    "start_time": "2024-08-18T10:21:11.770Z"
   },
   {
    "duration": 53,
    "start_time": "2024-08-18T10:21:24.336Z"
   },
   {
    "duration": 22,
    "start_time": "2024-08-18T10:22:35.692Z"
   },
   {
    "duration": 30,
    "start_time": "2024-08-18T10:23:38.547Z"
   },
   {
    "duration": 169,
    "start_time": "2024-08-18T10:26:34.304Z"
   },
   {
    "duration": 196,
    "start_time": "2024-08-18T10:27:02.371Z"
   },
   {
    "duration": 796,
    "start_time": "2024-08-18T10:46:43.919Z"
   },
   {
    "duration": 15,
    "start_time": "2024-08-18T10:46:44.717Z"
   },
   {
    "duration": 43,
    "start_time": "2024-08-18T10:46:44.736Z"
   },
   {
    "duration": 10,
    "start_time": "2024-08-18T10:46:44.781Z"
   },
   {
    "duration": 2011,
    "start_time": "2024-08-18T10:46:44.793Z"
   },
   {
    "duration": 8,
    "start_time": "2024-08-18T10:46:46.806Z"
   },
   {
    "duration": 8,
    "start_time": "2024-08-18T10:46:46.816Z"
   },
   {
    "duration": 5,
    "start_time": "2024-08-18T10:46:46.825Z"
   },
   {
    "duration": 23,
    "start_time": "2024-08-18T10:46:46.832Z"
   },
   {
    "duration": 4,
    "start_time": "2024-08-18T10:46:46.857Z"
   },
   {
    "duration": 5,
    "start_time": "2024-08-18T10:46:46.863Z"
   },
   {
    "duration": 17,
    "start_time": "2024-08-18T10:46:46.870Z"
   },
   {
    "duration": 7,
    "start_time": "2024-08-18T10:46:46.891Z"
   },
   {
    "duration": 5,
    "start_time": "2024-08-18T10:46:46.900Z"
   },
   {
    "duration": 9,
    "start_time": "2024-08-18T10:46:46.907Z"
   },
   {
    "duration": 277,
    "start_time": "2024-08-18T10:46:46.917Z"
   },
   {
    "duration": 6,
    "start_time": "2024-08-18T10:46:47.196Z"
   },
   {
    "duration": 36,
    "start_time": "2024-08-18T10:46:47.204Z"
   },
   {
    "duration": 393,
    "start_time": "2024-08-18T10:46:47.242Z"
   },
   {
    "duration": 17,
    "start_time": "2024-08-18T10:46:47.636Z"
   },
   {
    "duration": 265,
    "start_time": "2024-08-18T10:46:47.654Z"
   },
   {
    "duration": 347,
    "start_time": "2024-08-18T10:46:47.920Z"
   },
   {
    "duration": 253,
    "start_time": "2024-08-18T10:46:48.269Z"
   },
   {
    "duration": 272,
    "start_time": "2024-08-18T10:46:48.524Z"
   },
   {
    "duration": 156,
    "start_time": "2024-08-18T10:46:48.797Z"
   },
   {
    "duration": 178,
    "start_time": "2024-08-18T10:46:48.955Z"
   },
   {
    "duration": 151,
    "start_time": "2024-08-18T10:46:49.134Z"
   },
   {
    "duration": 258,
    "start_time": "2024-08-18T10:46:49.287Z"
   },
   {
    "duration": 345,
    "start_time": "2024-08-18T10:46:49.552Z"
   },
   {
    "duration": 273,
    "start_time": "2024-08-18T10:46:49.899Z"
   },
   {
    "duration": 263,
    "start_time": "2024-08-18T10:46:50.174Z"
   },
   {
    "duration": 215,
    "start_time": "2024-08-18T10:46:50.438Z"
   },
   {
    "duration": 226,
    "start_time": "2024-08-18T10:46:50.655Z"
   },
   {
    "duration": 208,
    "start_time": "2024-08-18T10:46:50.882Z"
   },
   {
    "duration": 156,
    "start_time": "2024-08-18T10:46:51.091Z"
   },
   {
    "duration": 143,
    "start_time": "2024-08-18T10:46:51.251Z"
   },
   {
    "duration": 161,
    "start_time": "2024-08-18T10:46:51.395Z"
   },
   {
    "duration": 256,
    "start_time": "2024-08-18T10:46:51.557Z"
   },
   {
    "duration": 155,
    "start_time": "2024-08-18T10:46:51.815Z"
   },
   {
    "duration": 27,
    "start_time": "2024-08-18T10:46:51.974Z"
   },
   {
    "duration": 201,
    "start_time": "2024-08-18T10:46:52.002Z"
   },
   {
    "duration": 7,
    "start_time": "2024-08-18T10:51:04.073Z"
   },
   {
    "duration": 7,
    "start_time": "2024-08-18T10:51:30.061Z"
   },
   {
    "duration": 200,
    "start_time": "2024-08-18T10:52:01.189Z"
   },
   {
    "duration": 749,
    "start_time": "2024-08-18T14:17:37.669Z"
   },
   {
    "duration": 14,
    "start_time": "2024-08-18T14:17:38.419Z"
   },
   {
    "duration": 40,
    "start_time": "2024-08-18T14:17:38.435Z"
   },
   {
    "duration": 8,
    "start_time": "2024-08-18T14:17:38.477Z"
   },
   {
    "duration": 1844,
    "start_time": "2024-08-18T14:17:38.487Z"
   },
   {
    "duration": 6,
    "start_time": "2024-08-18T14:17:40.333Z"
   },
   {
    "duration": 10,
    "start_time": "2024-08-18T14:17:40.341Z"
   },
   {
    "duration": 4,
    "start_time": "2024-08-18T14:17:40.353Z"
   },
   {
    "duration": 9,
    "start_time": "2024-08-18T14:17:40.359Z"
   },
   {
    "duration": 27,
    "start_time": "2024-08-18T14:17:40.370Z"
   },
   {
    "duration": 10,
    "start_time": "2024-08-18T14:17:40.399Z"
   },
   {
    "duration": 5,
    "start_time": "2024-08-18T14:17:40.411Z"
   },
   {
    "duration": 5,
    "start_time": "2024-08-18T14:17:40.417Z"
   },
   {
    "duration": 4,
    "start_time": "2024-08-18T14:17:40.425Z"
   },
   {
    "duration": 253,
    "start_time": "2024-08-18T14:17:40.431Z"
   },
   {
    "duration": 12,
    "start_time": "2024-08-18T14:17:40.685Z"
   },
   {
    "duration": 14,
    "start_time": "2024-08-18T14:17:40.698Z"
   },
   {
    "duration": 330,
    "start_time": "2024-08-18T14:17:40.713Z"
   },
   {
    "duration": 6,
    "start_time": "2024-08-18T14:17:41.045Z"
   },
   {
    "duration": 258,
    "start_time": "2024-08-18T14:17:41.052Z"
   },
   {
    "duration": 329,
    "start_time": "2024-08-18T14:17:41.312Z"
   },
   {
    "duration": 241,
    "start_time": "2024-08-18T14:17:41.643Z"
   },
   {
    "duration": 250,
    "start_time": "2024-08-18T14:17:41.885Z"
   },
   {
    "duration": 150,
    "start_time": "2024-08-18T14:17:42.136Z"
   },
   {
    "duration": 175,
    "start_time": "2024-08-18T14:17:42.288Z"
   },
   {
    "duration": 144,
    "start_time": "2024-08-18T14:17:42.465Z"
   },
   {
    "duration": 240,
    "start_time": "2024-08-18T14:17:42.610Z"
   },
   {
    "duration": 336,
    "start_time": "2024-08-18T14:17:42.852Z"
   },
   {
    "duration": 238,
    "start_time": "2024-08-18T14:17:43.189Z"
   },
   {
    "duration": 241,
    "start_time": "2024-08-18T14:17:43.428Z"
   },
   {
    "duration": 194,
    "start_time": "2024-08-18T14:17:43.670Z"
   },
   {
    "duration": 225,
    "start_time": "2024-08-18T14:17:43.865Z"
   },
   {
    "duration": 201,
    "start_time": "2024-08-18T14:17:44.095Z"
   },
   {
    "duration": 146,
    "start_time": "2024-08-18T14:17:44.297Z"
   },
   {
    "duration": 140,
    "start_time": "2024-08-18T14:17:44.445Z"
   },
   {
    "duration": 143,
    "start_time": "2024-08-18T14:17:44.586Z"
   },
   {
    "duration": 249,
    "start_time": "2024-08-18T14:17:44.731Z"
   },
   {
    "duration": 144,
    "start_time": "2024-08-18T14:17:44.981Z"
   },
   {
    "duration": 24,
    "start_time": "2024-08-18T14:17:45.126Z"
   },
   {
    "duration": 328,
    "start_time": "2024-08-18T14:17:45.151Z"
   },
   {
    "duration": 59,
    "start_time": "2024-08-18T15:32:30.551Z"
   },
   {
    "duration": 53,
    "start_time": "2024-08-19T19:51:23.184Z"
   },
   {
    "duration": 1184,
    "start_time": "2024-08-19T19:51:45.548Z"
   },
   {
    "duration": 16,
    "start_time": "2024-08-19T19:51:46.734Z"
   },
   {
    "duration": 24,
    "start_time": "2024-08-19T19:51:46.751Z"
   },
   {
    "duration": 9,
    "start_time": "2024-08-19T19:51:46.777Z"
   },
   {
    "duration": 2016,
    "start_time": "2024-08-19T19:51:46.788Z"
   },
   {
    "duration": 7,
    "start_time": "2024-08-19T19:51:48.806Z"
   },
   {
    "duration": 27,
    "start_time": "2024-08-19T19:51:48.815Z"
   },
   {
    "duration": 4,
    "start_time": "2024-08-19T19:51:48.844Z"
   },
   {
    "duration": 11,
    "start_time": "2024-08-19T19:51:48.850Z"
   },
   {
    "duration": 21,
    "start_time": "2024-08-19T19:51:48.862Z"
   },
   {
    "duration": 22,
    "start_time": "2024-08-19T19:51:48.885Z"
   },
   {
    "duration": 7,
    "start_time": "2024-08-19T19:51:48.908Z"
   },
   {
    "duration": 8,
    "start_time": "2024-08-19T19:51:48.916Z"
   },
   {
    "duration": 10,
    "start_time": "2024-08-19T19:51:48.925Z"
   },
   {
    "duration": 263,
    "start_time": "2024-08-19T19:51:48.936Z"
   },
   {
    "duration": 7,
    "start_time": "2024-08-19T19:51:49.201Z"
   },
   {
    "duration": 29,
    "start_time": "2024-08-19T19:51:49.209Z"
   },
   {
    "duration": 355,
    "start_time": "2024-08-19T19:51:49.241Z"
   },
   {
    "duration": 8,
    "start_time": "2024-08-19T19:51:49.597Z"
   },
   {
    "duration": 297,
    "start_time": "2024-08-19T19:51:49.607Z"
   },
   {
    "duration": 382,
    "start_time": "2024-08-19T19:51:49.905Z"
   },
   {
    "duration": 259,
    "start_time": "2024-08-19T19:51:50.289Z"
   },
   {
    "duration": 261,
    "start_time": "2024-08-19T19:51:50.549Z"
   },
   {
    "duration": 159,
    "start_time": "2024-08-19T19:51:50.811Z"
   },
   {
    "duration": 189,
    "start_time": "2024-08-19T19:51:50.971Z"
   },
   {
    "duration": 151,
    "start_time": "2024-08-19T19:51:51.161Z"
   },
   {
    "duration": 255,
    "start_time": "2024-08-19T19:51:51.314Z"
   },
   {
    "duration": 364,
    "start_time": "2024-08-19T19:51:51.571Z"
   },
   {
    "duration": 250,
    "start_time": "2024-08-19T19:51:51.937Z"
   },
   {
    "duration": 507,
    "start_time": "2024-08-19T19:51:52.189Z"
   },
   {
    "duration": 0,
    "start_time": "2024-08-19T19:51:52.698Z"
   },
   {
    "duration": 0,
    "start_time": "2024-08-19T19:51:52.699Z"
   },
   {
    "duration": 0,
    "start_time": "2024-08-19T19:51:52.700Z"
   },
   {
    "duration": 0,
    "start_time": "2024-08-19T19:51:52.701Z"
   },
   {
    "duration": 0,
    "start_time": "2024-08-19T19:51:52.702Z"
   },
   {
    "duration": 0,
    "start_time": "2024-08-19T19:51:52.703Z"
   },
   {
    "duration": 0,
    "start_time": "2024-08-19T19:51:52.704Z"
   },
   {
    "duration": 0,
    "start_time": "2024-08-19T19:51:52.705Z"
   },
   {
    "duration": 0,
    "start_time": "2024-08-19T19:51:52.706Z"
   },
   {
    "duration": 0,
    "start_time": "2024-08-19T19:51:52.707Z"
   },
   {
    "duration": 343,
    "start_time": "2024-08-19T19:52:43.589Z"
   },
   {
    "duration": 305,
    "start_time": "2024-08-19T19:56:16.201Z"
   },
   {
    "duration": 286,
    "start_time": "2024-08-19T19:58:59.539Z"
   },
   {
    "duration": 373,
    "start_time": "2024-08-19T20:03:05.178Z"
   },
   {
    "duration": 237,
    "start_time": "2024-08-19T20:03:52.498Z"
   },
   {
    "duration": 260,
    "start_time": "2024-08-19T20:04:35.398Z"
   },
   {
    "duration": 55,
    "start_time": "2024-08-19T20:04:54.253Z"
   },
   {
    "duration": 326,
    "start_time": "2024-08-19T20:16:15.465Z"
   },
   {
    "duration": 258,
    "start_time": "2024-08-19T20:37:06.838Z"
   },
   {
    "duration": 324,
    "start_time": "2024-08-19T20:37:41.856Z"
   },
   {
    "duration": 242,
    "start_time": "2024-08-19T20:38:23.584Z"
   },
   {
    "duration": 265,
    "start_time": "2024-08-19T20:38:59.915Z"
   },
   {
    "duration": 252,
    "start_time": "2024-08-19T20:40:49.631Z"
   },
   {
    "duration": 246,
    "start_time": "2024-08-19T20:41:24.307Z"
   },
   {
    "duration": 247,
    "start_time": "2024-08-19T20:42:15.417Z"
   },
   {
    "duration": 337,
    "start_time": "2024-08-19T20:42:48.404Z"
   },
   {
    "duration": 249,
    "start_time": "2024-08-19T20:43:05.664Z"
   },
   {
    "duration": 249,
    "start_time": "2024-08-19T20:44:17.953Z"
   },
   {
    "duration": 247,
    "start_time": "2024-08-19T20:45:41.472Z"
   },
   {
    "duration": 246,
    "start_time": "2024-08-19T20:46:57.913Z"
   },
   {
    "duration": 59,
    "start_time": "2024-08-19T21:01:44.748Z"
   },
   {
    "duration": 48,
    "start_time": "2024-08-19T21:01:53.544Z"
   },
   {
    "duration": 46,
    "start_time": "2024-08-19T21:01:57.566Z"
   },
   {
    "duration": 53,
    "start_time": "2024-08-19T21:02:58.041Z"
   },
   {
    "duration": 45,
    "start_time": "2024-08-19T21:03:02.625Z"
   },
   {
    "duration": 40,
    "start_time": "2024-08-19T21:03:10.489Z"
   },
   {
    "duration": 1027,
    "start_time": "2025-04-26T11:55:25.067Z"
   },
   {
    "duration": 16,
    "start_time": "2025-04-26T11:55:26.096Z"
   },
   {
    "duration": 90,
    "start_time": "2025-04-26T11:55:26.114Z"
   },
   {
    "duration": 11,
    "start_time": "2025-04-26T11:55:26.206Z"
   },
   {
    "duration": 2136,
    "start_time": "2025-04-26T11:55:26.219Z"
   },
   {
    "duration": 7,
    "start_time": "2025-04-26T11:55:28.357Z"
   },
   {
    "duration": 7,
    "start_time": "2025-04-26T11:55:28.366Z"
   },
   {
    "duration": 11,
    "start_time": "2025-04-26T11:55:28.374Z"
   },
   {
    "duration": 10,
    "start_time": "2025-04-26T11:55:28.387Z"
   },
   {
    "duration": 3,
    "start_time": "2025-04-26T11:55:28.400Z"
   },
   {
    "duration": 39,
    "start_time": "2025-04-26T11:55:28.404Z"
   },
   {
    "duration": 26,
    "start_time": "2025-04-26T11:55:28.445Z"
   },
   {
    "duration": 9,
    "start_time": "2025-04-26T11:55:28.473Z"
   },
   {
    "duration": 6,
    "start_time": "2025-04-26T11:55:28.484Z"
   },
   {
    "duration": 295,
    "start_time": "2025-04-26T11:55:28.491Z"
   },
   {
    "duration": 8,
    "start_time": "2025-04-26T11:55:28.787Z"
   },
   {
    "duration": 60,
    "start_time": "2025-04-26T11:55:28.797Z"
   },
   {
    "duration": 349,
    "start_time": "2025-04-26T11:55:28.859Z"
   },
   {
    "duration": 7,
    "start_time": "2025-04-26T11:55:29.209Z"
   },
   {
    "duration": 302,
    "start_time": "2025-04-26T11:55:29.218Z"
   },
   {
    "duration": 376,
    "start_time": "2025-04-26T11:55:29.522Z"
   },
   {
    "duration": 289,
    "start_time": "2025-04-26T11:55:29.900Z"
   },
   {
    "duration": 288,
    "start_time": "2025-04-26T11:55:30.191Z"
   },
   {
    "duration": 171,
    "start_time": "2025-04-26T11:55:30.481Z"
   },
   {
    "duration": 201,
    "start_time": "2025-04-26T11:55:30.654Z"
   },
   {
    "duration": 175,
    "start_time": "2025-04-26T11:55:30.857Z"
   },
   {
    "duration": 272,
    "start_time": "2025-04-26T11:55:31.038Z"
   },
   {
    "duration": 410,
    "start_time": "2025-04-26T11:55:31.315Z"
   },
   {
    "duration": 293,
    "start_time": "2025-04-26T11:55:31.727Z"
   },
   {
    "duration": 302,
    "start_time": "2025-04-26T11:55:32.023Z"
   },
   {
    "duration": 229,
    "start_time": "2025-04-26T11:55:32.327Z"
   },
   {
    "duration": 248,
    "start_time": "2025-04-26T11:55:32.558Z"
   },
   {
    "duration": 232,
    "start_time": "2025-04-26T11:55:32.808Z"
   },
   {
    "duration": 171,
    "start_time": "2025-04-26T11:55:33.041Z"
   },
   {
    "duration": 162,
    "start_time": "2025-04-26T11:55:33.214Z"
   },
   {
    "duration": 177,
    "start_time": "2025-04-26T11:55:33.378Z"
   },
   {
    "duration": 288,
    "start_time": "2025-04-26T11:55:33.557Z"
   },
   {
    "duration": 161,
    "start_time": "2025-04-26T11:55:33.847Z"
   },
   {
    "duration": 37,
    "start_time": "2025-04-26T11:55:34.010Z"
   },
   {
    "duration": 247,
    "start_time": "2025-04-26T11:55:34.049Z"
   },
   {
    "duration": 4,
    "start_time": "2025-04-26T11:55:41.042Z"
   },
   {
    "duration": 4,
    "start_time": "2025-04-26T11:55:48.723Z"
   },
   {
    "duration": 834,
    "start_time": "2025-04-26T11:56:12.730Z"
   },
   {
    "duration": 16,
    "start_time": "2025-04-26T11:56:13.566Z"
   },
   {
    "duration": 25,
    "start_time": "2025-04-26T11:56:13.584Z"
   },
   {
    "duration": 27,
    "start_time": "2025-04-26T11:56:13.611Z"
   },
   {
    "duration": 2188,
    "start_time": "2025-04-26T11:56:13.641Z"
   },
   {
    "duration": 13,
    "start_time": "2025-04-26T11:56:15.832Z"
   },
   {
    "duration": 7,
    "start_time": "2025-04-26T11:56:15.847Z"
   },
   {
    "duration": 5,
    "start_time": "2025-04-26T11:56:15.855Z"
   },
   {
    "duration": 20,
    "start_time": "2025-04-26T11:56:15.862Z"
   },
   {
    "duration": 4,
    "start_time": "2025-04-26T11:56:15.884Z"
   },
   {
    "duration": 11,
    "start_time": "2025-04-26T11:56:15.890Z"
   },
   {
    "duration": 36,
    "start_time": "2025-04-26T11:56:15.903Z"
   },
   {
    "duration": 5,
    "start_time": "2025-04-26T11:56:15.941Z"
   },
   {
    "duration": 6,
    "start_time": "2025-04-26T11:56:15.949Z"
   },
   {
    "duration": 264,
    "start_time": "2025-04-26T11:56:15.957Z"
   },
   {
    "duration": 15,
    "start_time": "2025-04-26T11:56:16.223Z"
   },
   {
    "duration": 16,
    "start_time": "2025-04-26T11:56:16.240Z"
   },
   {
    "duration": 351,
    "start_time": "2025-04-26T11:56:16.258Z"
   },
   {
    "duration": 6,
    "start_time": "2025-04-26T11:56:16.611Z"
   },
   {
    "duration": 272,
    "start_time": "2025-04-26T11:56:16.619Z"
   },
   {
    "duration": 372,
    "start_time": "2025-04-26T11:56:16.893Z"
   },
   {
    "duration": 275,
    "start_time": "2025-04-26T11:56:17.267Z"
   },
   {
    "duration": 265,
    "start_time": "2025-04-26T11:56:17.544Z"
   },
   {
    "duration": 166,
    "start_time": "2025-04-26T11:56:17.811Z"
   },
   {
    "duration": 189,
    "start_time": "2025-04-26T11:56:17.978Z"
   },
   {
    "duration": 161,
    "start_time": "2025-04-26T11:56:18.168Z"
   },
   {
    "duration": 265,
    "start_time": "2025-04-26T11:56:18.331Z"
   },
   {
    "duration": 369,
    "start_time": "2025-04-26T11:56:18.598Z"
   },
   {
    "duration": 269,
    "start_time": "2025-04-26T11:56:18.969Z"
   },
   {
    "duration": 274,
    "start_time": "2025-04-26T11:56:19.239Z"
   },
   {
    "duration": 228,
    "start_time": "2025-04-26T11:56:19.515Z"
   },
   {
    "duration": 236,
    "start_time": "2025-04-26T11:56:19.745Z"
   },
   {
    "duration": 230,
    "start_time": "2025-04-26T11:56:19.983Z"
   },
   {
    "duration": 169,
    "start_time": "2025-04-26T11:56:20.215Z"
   },
   {
    "duration": 166,
    "start_time": "2025-04-26T11:56:20.386Z"
   },
   {
    "duration": 172,
    "start_time": "2025-04-26T11:56:20.554Z"
   },
   {
    "duration": 274,
    "start_time": "2025-04-26T11:56:20.728Z"
   },
   {
    "duration": 162,
    "start_time": "2025-04-26T11:56:21.004Z"
   },
   {
    "duration": 29,
    "start_time": "2025-04-26T11:56:21.167Z"
   },
   {
    "duration": 227,
    "start_time": "2025-04-26T11:56:21.198Z"
   },
   {
    "duration": 110,
    "start_time": "2025-04-26T11:56:32.576Z"
   },
   {
    "duration": 7,
    "start_time": "2025-04-26T11:56:43.489Z"
   },
   {
    "duration": 5,
    "start_time": "2025-04-26T11:56:45.801Z"
   },
   {
    "duration": 5,
    "start_time": "2025-04-26T11:56:47.851Z"
   },
   {
    "duration": 9,
    "start_time": "2025-04-26T11:56:50.092Z"
   },
   {
    "duration": 4,
    "start_time": "2025-04-26T11:56:52.980Z"
   }
  ],
  "colab": {
   "provenance": []
  },
  "kernelspec": {
   "display_name": "Python 3 (ipykernel)",
   "language": "python",
   "name": "python3"
  },
  "language_info": {
   "codemirror_mode": {
    "name": "ipython",
    "version": 3
   },
   "file_extension": ".py",
   "mimetype": "text/x-python",
   "name": "python",
   "nbconvert_exporter": "python",
   "pygments_lexer": "ipython3",
   "version": "3.9.5"
  },
  "toc": {
   "base_numbering": 1,
   "nav_menu": {},
   "number_sections": true,
   "sideBar": true,
   "skip_h1_title": true,
   "title_cell": "Table of Contents",
   "title_sidebar": "Contents",
   "toc_cell": false,
   "toc_position": {},
   "toc_section_display": true,
   "toc_window_display": true
  }
 },
 "nbformat": 4,
 "nbformat_minor": 1
}
